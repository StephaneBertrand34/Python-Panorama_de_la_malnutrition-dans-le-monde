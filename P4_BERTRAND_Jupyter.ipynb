{
 "cells": [
  {
   "cell_type": "code",
   "execution_count": 1,
   "id": "99b089e2-04a9-4607-ba41-9c7fb3b3b028",
   "metadata": {
    "scrolled": true
   },
   "outputs": [],
   "source": [
    "import pandas as pd\n",
    "import matplotlib.pyplot as plt\n",
    "ssn = pd.read_csv('sous_nutrition.csv')\n",
    "pop = pd.read_csv('population.csv')\n",
    "dis = pd.read_csv('dispo_alimentaire.csv')\n",
    "aid = pd.read_csv('aide_alimentaire.csv')"
   ]
  },
  {
   "cell_type": "markdown",
   "id": "3070e307-e40b-42ba-9688-eb6516fde1d7",
   "metadata": {},
   "source": [
    "## Demande Marc 1 - Proportion des personnes en état de sous-nutrition en 2017"
   ]
  },
  {
   "cell_type": "markdown",
   "id": "3cee3cdc-7f36-4c49-8bb9-6df0c9baa401",
   "metadata": {},
   "source": [
    ">>### Renommage des colonnes de même nom:"
   ]
  },
  {
   "cell_type": "code",
   "execution_count": 2,
   "id": "c40071d7-dca0-414f-b631-a2dbfd3f8d04",
   "metadata": {},
   "outputs": [],
   "source": [
    "ssn = ssn.rename(columns={'Valeur':'Valeur_ssn'})\n",
    "pop = pop.rename(columns={'Valeur':'Valeur_pop'})\n",
    "aid = aid.rename(columns={'Valeur':'Valeur_aid'})"
   ]
  },
  {
   "cell_type": "markdown",
   "id": "426ce2c1-dc5e-46b6-829d-2ed37369218f",
   "metadata": {},
   "source": [
    ">>### Cast 'Valeur_ssn':"
   ]
  },
  {
   "cell_type": "code",
   "execution_count": 3,
   "id": "905ab9e9-5c2c-4795-a8a2-006d31869641",
   "metadata": {},
   "outputs": [],
   "source": [
    "ssn['Valeur_ssn'] = pd.to_numeric(ssn['Valeur_ssn'], errors='coerce')"
   ]
  },
  {
   "cell_type": "markdown",
   "id": "5852b70f-4ea3-4b04-8ee0-fa89c0b6e5db",
   "metadata": {},
   "source": [
    ">>###    Valeurs manquantes:"
   ]
  },
  {
   "cell_type": "code",
   "execution_count": 4,
   "id": "fbdddfe2-8e43-49dd-b9b0-ed1c9fc5ce57",
   "metadata": {},
   "outputs": [],
   "source": [
    "ssn['Valeur_ssn'] = ssn['Valeur_ssn'].fillna(0)"
   ]
  },
  {
   "cell_type": "code",
   "execution_count": 5,
   "id": "1b55ea03-5bb9-4ae4-9287-564ac391b8f5",
   "metadata": {},
   "outputs": [
    {
     "data": {
      "text/html": [
       "<div>\n",
       "<style scoped>\n",
       "    .dataframe tbody tr th:only-of-type {\n",
       "        vertical-align: middle;\n",
       "    }\n",
       "\n",
       "    .dataframe tbody tr th {\n",
       "        vertical-align: top;\n",
       "    }\n",
       "\n",
       "    .dataframe thead th {\n",
       "        text-align: right;\n",
       "    }\n",
       "</style>\n",
       "<table border=\"1\" class=\"dataframe\">\n",
       "  <thead>\n",
       "    <tr style=\"text-align: right;\">\n",
       "      <th></th>\n",
       "      <th>Zone</th>\n",
       "      <th>Année</th>\n",
       "      <th>Valeur_ssn</th>\n",
       "    </tr>\n",
       "  </thead>\n",
       "  <tbody>\n",
       "  </tbody>\n",
       "</table>\n",
       "</div>"
      ],
      "text/plain": [
       "Empty DataFrame\n",
       "Columns: [Zone, Année, Valeur_ssn]\n",
       "Index: []"
      ]
     },
     "execution_count": 5,
     "metadata": {},
     "output_type": "execute_result"
    }
   ],
   "source": [
    "ssn.loc[ssn['Valeur_ssn'].isnull()]"
   ]
  },
  {
   "cell_type": "markdown",
   "id": "81b72515-705e-416b-be73-b2c31c18342d",
   "metadata": {},
   "source": [
    ">>###    Données à modifier:"
   ]
  },
  {
   "cell_type": "code",
   "execution_count": 6,
   "id": "54ecc25a-f4e4-483d-af81-fd5bfb95039f",
   "metadata": {},
   "outputs": [],
   "source": [
    "ssn['Année'] = ssn['Année'].replace(['2012-2014', '2013-2015', '2014-2016', '2015-2017', '2016-2018', '2017-2019']\n",
    "                                    ,[2013, 2014, 2015, 2016, 2017, 2018])"
   ]
  },
  {
   "cell_type": "code",
   "execution_count": 7,
   "id": "1b731bad-0f74-49e3-a13f-7cf0ad51e18a",
   "metadata": {},
   "outputs": [],
   "source": [
    "pop['Valeur_pop'] = pop['Valeur_pop']/1000"
   ]
  },
  {
   "cell_type": "markdown",
   "id": "d8310623-c053-42dc-9703-360fc52c0604",
   "metadata": {},
   "source": [
    ">>### Sélection des lignes 2017:"
   ]
  },
  {
   "cell_type": "code",
   "execution_count": 8,
   "id": "1b96de2b-1393-4a6b-9f5b-f35819c20f59",
   "metadata": {},
   "outputs": [],
   "source": [
    "ssn2017 = ssn.loc[ssn['Année']==2017, ['Zone','Valeur_ssn']]"
   ]
  },
  {
   "cell_type": "code",
   "execution_count": 9,
   "id": "3b1b4ef7-4eec-427f-8cdc-fac2b5c6f6b7",
   "metadata": {},
   "outputs": [],
   "source": [
    "pop2017 = pop.loc[pop['Année']==2017, ['Zone', 'Valeur_pop']]"
   ]
  },
  {
   "cell_type": "markdown",
   "id": "73ac7424-3a90-4181-b177-7830cf610345",
   "metadata": {},
   "source": [
    ">>### Jointure:"
   ]
  },
  {
   "cell_type": "code",
   "execution_count": 10,
   "id": "3fe5fe5d-9d48-4fdb-b834-efdb386750b5",
   "metadata": {},
   "outputs": [
    {
     "data": {
      "text/html": [
       "<div>\n",
       "<style scoped>\n",
       "    .dataframe tbody tr th:only-of-type {\n",
       "        vertical-align: middle;\n",
       "    }\n",
       "\n",
       "    .dataframe tbody tr th {\n",
       "        vertical-align: top;\n",
       "    }\n",
       "\n",
       "    .dataframe thead th {\n",
       "        text-align: right;\n",
       "    }\n",
       "</style>\n",
       "<table border=\"1\" class=\"dataframe\">\n",
       "  <thead>\n",
       "    <tr style=\"text-align: right;\">\n",
       "      <th></th>\n",
       "      <th>Zone</th>\n",
       "      <th>Valeur_ssn</th>\n",
       "      <th>Valeur_pop</th>\n",
       "    </tr>\n",
       "  </thead>\n",
       "  <tbody>\n",
       "    <tr>\n",
       "      <th>0</th>\n",
       "      <td>Afghanistan</td>\n",
       "      <td>10.5</td>\n",
       "      <td>36.296113</td>\n",
       "    </tr>\n",
       "    <tr>\n",
       "      <th>1</th>\n",
       "      <td>Afrique du Sud</td>\n",
       "      <td>3.1</td>\n",
       "      <td>57.009756</td>\n",
       "    </tr>\n",
       "    <tr>\n",
       "      <th>2</th>\n",
       "      <td>Albanie</td>\n",
       "      <td>0.1</td>\n",
       "      <td>2.884169</td>\n",
       "    </tr>\n",
       "    <tr>\n",
       "      <th>3</th>\n",
       "      <td>Algérie</td>\n",
       "      <td>1.3</td>\n",
       "      <td>41.389189</td>\n",
       "    </tr>\n",
       "    <tr>\n",
       "      <th>4</th>\n",
       "      <td>Allemagne</td>\n",
       "      <td>0.0</td>\n",
       "      <td>82.658409</td>\n",
       "    </tr>\n",
       "    <tr>\n",
       "      <th>...</th>\n",
       "      <td>...</td>\n",
       "      <td>...</td>\n",
       "      <td>...</td>\n",
       "    </tr>\n",
       "    <tr>\n",
       "      <th>231</th>\n",
       "      <td>Saint-Marin</td>\n",
       "      <td>NaN</td>\n",
       "      <td>0.033671</td>\n",
       "    </tr>\n",
       "    <tr>\n",
       "      <th>232</th>\n",
       "      <td>Saint-Martin (partie française)</td>\n",
       "      <td>NaN</td>\n",
       "      <td>0.036560</td>\n",
       "    </tr>\n",
       "    <tr>\n",
       "      <th>233</th>\n",
       "      <td>Saint-Pierre-et-Miquelon</td>\n",
       "      <td>NaN</td>\n",
       "      <td>0.005887</td>\n",
       "    </tr>\n",
       "    <tr>\n",
       "      <th>234</th>\n",
       "      <td>Saint-Siège</td>\n",
       "      <td>NaN</td>\n",
       "      <td>0.000793</td>\n",
       "    </tr>\n",
       "    <tr>\n",
       "      <th>235</th>\n",
       "      <td>Sint Maarten  (partie néerlandaise)</td>\n",
       "      <td>NaN</td>\n",
       "      <td>0.041444</td>\n",
       "    </tr>\n",
       "  </tbody>\n",
       "</table>\n",
       "<p>236 rows × 3 columns</p>\n",
       "</div>"
      ],
      "text/plain": [
       "                                    Zone  Valeur_ssn  Valeur_pop\n",
       "0                            Afghanistan        10.5   36.296113\n",
       "1                         Afrique du Sud         3.1   57.009756\n",
       "2                                Albanie         0.1    2.884169\n",
       "3                                Algérie         1.3   41.389189\n",
       "4                              Allemagne         0.0   82.658409\n",
       "..                                   ...         ...         ...\n",
       "231                          Saint-Marin         NaN    0.033671\n",
       "232      Saint-Martin (partie française)         NaN    0.036560\n",
       "233             Saint-Pierre-et-Miquelon         NaN    0.005887\n",
       "234                          Saint-Siège         NaN    0.000793\n",
       "235  Sint Maarten  (partie néerlandaise)         NaN    0.041444\n",
       "\n",
       "[236 rows x 3 columns]"
      ]
     },
     "execution_count": 10,
     "metadata": {},
     "output_type": "execute_result"
    }
   ],
   "source": [
    "ssn_pop_2017 = pd.merge(ssn2017, pop2017, how='outer')\n",
    "ssn_pop_2017"
   ]
  },
  {
   "cell_type": "markdown",
   "id": "300b537a-813c-4ba7-910d-a100126fb44d",
   "metadata": {},
   "source": [
    ">>### Nettoyage des données:"
   ]
  },
  {
   "cell_type": "code",
   "execution_count": 11,
   "id": "a65fbe83-de81-42cb-840f-f361334323e7",
   "metadata": {},
   "outputs": [],
   "source": [
    "ssn_pop_2017['Valeur_ssn'] = ssn_pop_2017['Valeur_ssn'].fillna(0)"
   ]
  },
  {
   "cell_type": "markdown",
   "id": "d1d4c953-422b-44e8-b400-8508c09313ef",
   "metadata": {},
   "source": [
    ">>### Calcul:"
   ]
  },
  {
   "cell_type": "code",
   "execution_count": 12,
   "id": "2851aed8-5cda-4529-9353-6947d3d5b2ee",
   "metadata": {},
   "outputs": [
    {
     "name": "stdout",
     "output_type": "stream",
     "text": [
      "La proportion de personnes en état de sous-nutrition est de 7.10 %\n"
     ]
    }
   ],
   "source": [
    "calcul_ss_nutr = ssn_pop_2017['Valeur_ssn'].sum()/ssn_pop_2017['Valeur_pop'].sum()*100\n",
    "print('La proportion de personnes en état de sous-nutrition est de {:.2f} %'.format(calcul_ss_nutr))"
   ]
  },
  {
   "cell_type": "markdown",
   "id": "f4b370b6-fcb7-4826-ab89-7debbf34c696",
   "metadata": {},
   "source": [
    "## Demande Marc 2 - Nombre théorique de personnes qui pourraient être nourries"
   ]
  },
  {
   "cell_type": "code",
   "execution_count": 13,
   "id": "15cce937",
   "metadata": {},
   "outputs": [],
   "source": [
    "dis['Disponibilité alimentaire (Kcal/personne/jour)'] = dis['Disponibilité alimentaire (Kcal/personne/jour)'].fillna(0)"
   ]
  },
  {
   "cell_type": "code",
   "execution_count": 14,
   "id": "785f2d54-98d2-40f3-ac01-ea70fc25abc2",
   "metadata": {},
   "outputs": [
    {
     "data": {
      "text/html": [
       "<div>\n",
       "<style scoped>\n",
       "    .dataframe tbody tr th:only-of-type {\n",
       "        vertical-align: middle;\n",
       "    }\n",
       "\n",
       "    .dataframe tbody tr th {\n",
       "        vertical-align: top;\n",
       "    }\n",
       "\n",
       "    .dataframe thead th {\n",
       "        text-align: right;\n",
       "    }\n",
       "</style>\n",
       "<table border=\"1\" class=\"dataframe\">\n",
       "  <thead>\n",
       "    <tr style=\"text-align: right;\">\n",
       "      <th></th>\n",
       "      <th>Disponibilité alimentaire (Kcal/personne/jour)</th>\n",
       "    </tr>\n",
       "    <tr>\n",
       "      <th>Zone</th>\n",
       "      <th></th>\n",
       "    </tr>\n",
       "  </thead>\n",
       "  <tbody>\n",
       "    <tr>\n",
       "      <th>Afghanistan</th>\n",
       "      <td>2087.0</td>\n",
       "    </tr>\n",
       "    <tr>\n",
       "      <th>Afrique du Sud</th>\n",
       "      <td>3020.0</td>\n",
       "    </tr>\n",
       "    <tr>\n",
       "      <th>Albanie</th>\n",
       "      <td>3188.0</td>\n",
       "    </tr>\n",
       "    <tr>\n",
       "      <th>Algérie</th>\n",
       "      <td>3293.0</td>\n",
       "    </tr>\n",
       "    <tr>\n",
       "      <th>Allemagne</th>\n",
       "      <td>3503.0</td>\n",
       "    </tr>\n",
       "    <tr>\n",
       "      <th>...</th>\n",
       "      <td>...</td>\n",
       "    </tr>\n",
       "    <tr>\n",
       "      <th>Émirats arabes unis</th>\n",
       "      <td>3275.0</td>\n",
       "    </tr>\n",
       "    <tr>\n",
       "      <th>Équateur</th>\n",
       "      <td>2346.0</td>\n",
       "    </tr>\n",
       "    <tr>\n",
       "      <th>États-Unis d'Amérique</th>\n",
       "      <td>3682.0</td>\n",
       "    </tr>\n",
       "    <tr>\n",
       "      <th>Éthiopie</th>\n",
       "      <td>2129.0</td>\n",
       "    </tr>\n",
       "    <tr>\n",
       "      <th>Îles Salomon</th>\n",
       "      <td>2383.0</td>\n",
       "    </tr>\n",
       "  </tbody>\n",
       "</table>\n",
       "<p>174 rows × 1 columns</p>\n",
       "</div>"
      ],
      "text/plain": [
       "                       Disponibilité alimentaire (Kcal/personne/jour)\n",
       "Zone                                                                 \n",
       "Afghanistan                                                    2087.0\n",
       "Afrique du Sud                                                 3020.0\n",
       "Albanie                                                        3188.0\n",
       "Algérie                                                        3293.0\n",
       "Allemagne                                                      3503.0\n",
       "...                                                               ...\n",
       "Émirats arabes unis                                            3275.0\n",
       "Équateur                                                       2346.0\n",
       "États-Unis d'Amérique                                          3682.0\n",
       "Éthiopie                                                       2129.0\n",
       "Îles Salomon                                                   2383.0\n",
       "\n",
       "[174 rows x 1 columns]"
      ]
     },
     "execution_count": 14,
     "metadata": {},
     "output_type": "execute_result"
    }
   ],
   "source": [
    "dispo_par_pays = pd.DataFrame(dis.groupby('Zone') ['Disponibilité alimentaire (Kcal/personne/jour)'].sum())\n",
    "dispo_par_pays"
   ]
  },
  {
   "cell_type": "code",
   "execution_count": 15,
   "id": "ee9fe4b7",
   "metadata": {},
   "outputs": [
    {
     "data": {
      "text/html": [
       "<div>\n",
       "<style scoped>\n",
       "    .dataframe tbody tr th:only-of-type {\n",
       "        vertical-align: middle;\n",
       "    }\n",
       "\n",
       "    .dataframe tbody tr th {\n",
       "        vertical-align: top;\n",
       "    }\n",
       "\n",
       "    .dataframe thead th {\n",
       "        text-align: right;\n",
       "    }\n",
       "</style>\n",
       "<table border=\"1\" class=\"dataframe\">\n",
       "  <thead>\n",
       "    <tr style=\"text-align: right;\">\n",
       "      <th></th>\n",
       "      <th>Zone</th>\n",
       "      <th>Disponibilité alimentaire (Kcal/personne/jour)</th>\n",
       "      <th>Valeur_pop</th>\n",
       "    </tr>\n",
       "  </thead>\n",
       "  <tbody>\n",
       "    <tr>\n",
       "      <th>0</th>\n",
       "      <td>Afghanistan</td>\n",
       "      <td>2087.0</td>\n",
       "      <td>36.296113</td>\n",
       "    </tr>\n",
       "    <tr>\n",
       "      <th>1</th>\n",
       "      <td>Afrique du Sud</td>\n",
       "      <td>3020.0</td>\n",
       "      <td>57.009756</td>\n",
       "    </tr>\n",
       "    <tr>\n",
       "      <th>2</th>\n",
       "      <td>Albanie</td>\n",
       "      <td>3188.0</td>\n",
       "      <td>2.884169</td>\n",
       "    </tr>\n",
       "    <tr>\n",
       "      <th>3</th>\n",
       "      <td>Algérie</td>\n",
       "      <td>3293.0</td>\n",
       "      <td>41.389189</td>\n",
       "    </tr>\n",
       "    <tr>\n",
       "      <th>4</th>\n",
       "      <td>Allemagne</td>\n",
       "      <td>3503.0</td>\n",
       "      <td>82.658409</td>\n",
       "    </tr>\n",
       "    <tr>\n",
       "      <th>...</th>\n",
       "      <td>...</td>\n",
       "      <td>...</td>\n",
       "      <td>...</td>\n",
       "    </tr>\n",
       "    <tr>\n",
       "      <th>167</th>\n",
       "      <td>Émirats arabes unis</td>\n",
       "      <td>3275.0</td>\n",
       "      <td>9.487203</td>\n",
       "    </tr>\n",
       "    <tr>\n",
       "      <th>168</th>\n",
       "      <td>Équateur</td>\n",
       "      <td>2346.0</td>\n",
       "      <td>16.785361</td>\n",
       "    </tr>\n",
       "    <tr>\n",
       "      <th>169</th>\n",
       "      <td>États-Unis d'Amérique</td>\n",
       "      <td>3682.0</td>\n",
       "      <td>325.084756</td>\n",
       "    </tr>\n",
       "    <tr>\n",
       "      <th>170</th>\n",
       "      <td>Éthiopie</td>\n",
       "      <td>2129.0</td>\n",
       "      <td>106.399924</td>\n",
       "    </tr>\n",
       "    <tr>\n",
       "      <th>171</th>\n",
       "      <td>Îles Salomon</td>\n",
       "      <td>2383.0</td>\n",
       "      <td>0.636039</td>\n",
       "    </tr>\n",
       "  </tbody>\n",
       "</table>\n",
       "<p>172 rows × 3 columns</p>\n",
       "</div>"
      ],
      "text/plain": [
       "                      Zone  Disponibilité alimentaire (Kcal/personne/jour)  \\\n",
       "0              Afghanistan                                          2087.0   \n",
       "1           Afrique du Sud                                          3020.0   \n",
       "2                  Albanie                                          3188.0   \n",
       "3                  Algérie                                          3293.0   \n",
       "4                Allemagne                                          3503.0   \n",
       "..                     ...                                             ...   \n",
       "167    Émirats arabes unis                                          3275.0   \n",
       "168               Équateur                                          2346.0   \n",
       "169  États-Unis d'Amérique                                          3682.0   \n",
       "170               Éthiopie                                          2129.0   \n",
       "171           Îles Salomon                                          2383.0   \n",
       "\n",
       "     Valeur_pop  \n",
       "0     36.296113  \n",
       "1     57.009756  \n",
       "2      2.884169  \n",
       "3     41.389189  \n",
       "4     82.658409  \n",
       "..          ...  \n",
       "167    9.487203  \n",
       "168   16.785361  \n",
       "169  325.084756  \n",
       "170  106.399924  \n",
       "171    0.636039  \n",
       "\n",
       "[172 rows x 3 columns]"
      ]
     },
     "execution_count": 15,
     "metadata": {},
     "output_type": "execute_result"
    }
   ],
   "source": [
    "dis_pop = pd.merge(dispo_par_pays, pop2017, on='Zone')\n",
    "dis_pop"
   ]
  },
  {
   "cell_type": "code",
   "execution_count": 16,
   "id": "87e2333b-95c7-482c-b7ab-b40516494666",
   "metadata": {},
   "outputs": [],
   "source": [
    "dis_pop['Dispo alimentaire totale (Kcal./jour)'] = dis_pop['Disponibilité alimentaire (Kcal/personne/jour)'] * dis_pop['Valeur_pop']"
   ]
  },
  {
   "cell_type": "code",
   "execution_count": 17,
   "id": "18cc2538-1c62-4fef-a51b-b286f2efcd6a",
   "metadata": {},
   "outputs": [
    {
     "name": "stdout",
     "output_type": "stream",
     "text": [
      "Dans le cas de 1800 calories/jour, on peut nourrir: 11.62 milliards de personnes\n",
      "Dans le cas de 2500 calories/jour, on peut nourrir: 8.37 milliards de personnes\n",
      "Dans le cas de 2700 calories/jour, on peut nourrir: 7.75 milliards de personnes\n"
     ]
    }
   ],
   "source": [
    "for kcal in [1800, 2500, 2700]:\n",
    "    on_peut_nour = dis_pop['Dispo alimentaire totale (Kcal./jour)'].sum()/kcal/1000\n",
    "    print('Dans le cas de {} calories/jour, on peut nourrir: {:.2f} milliards de personnes'.format(kcal, on_peut_nour))"
   ]
  },
  {
   "cell_type": "markdown",
   "id": "63349079-2e12-4436-855d-e32f3c95a86a",
   "metadata": {},
   "source": [
    "## Demande Marc 3 - Nombre théorique de personnes qui pourraient être nourries avec une nourriture végétale"
   ]
  },
  {
   "cell_type": "code",
   "execution_count": 18,
   "id": "d69cf8d9-71f3-4213-a0c8-b6fc0eef68cd",
   "metadata": {},
   "outputs": [],
   "source": [
    "dispo_vegetale = dis[dis['Origine']=='vegetale']"
   ]
  },
  {
   "cell_type": "code",
   "execution_count": 19,
   "id": "457b75c0-88d7-406e-8bfa-93c8a340d96b",
   "metadata": {},
   "outputs": [],
   "source": [
    "dispo_vegetale_par_pays = pd.DataFrame(dispo_vegetale.groupby('Zone') ['Disponibilité alimentaire (Kcal/personne/jour)'].sum())"
   ]
  },
  {
   "cell_type": "code",
   "execution_count": 20,
   "id": "90357071-429a-43bd-aa93-de708cb5fd35",
   "metadata": {},
   "outputs": [
    {
     "data": {
      "text/html": [
       "<div>\n",
       "<style scoped>\n",
       "    .dataframe tbody tr th:only-of-type {\n",
       "        vertical-align: middle;\n",
       "    }\n",
       "\n",
       "    .dataframe tbody tr th {\n",
       "        vertical-align: top;\n",
       "    }\n",
       "\n",
       "    .dataframe thead th {\n",
       "        text-align: right;\n",
       "    }\n",
       "</style>\n",
       "<table border=\"1\" class=\"dataframe\">\n",
       "  <thead>\n",
       "    <tr style=\"text-align: right;\">\n",
       "      <th></th>\n",
       "      <th>Zone</th>\n",
       "      <th>Disponibilité alimentaire (Kcal/personne/jour)</th>\n",
       "      <th>Valeur_pop</th>\n",
       "    </tr>\n",
       "  </thead>\n",
       "  <tbody>\n",
       "    <tr>\n",
       "      <th>0</th>\n",
       "      <td>Afghanistan</td>\n",
       "      <td>1871.0</td>\n",
       "      <td>36.296113</td>\n",
       "    </tr>\n",
       "    <tr>\n",
       "      <th>1</th>\n",
       "      <td>Afrique du Sud</td>\n",
       "      <td>2533.0</td>\n",
       "      <td>57.009756</td>\n",
       "    </tr>\n",
       "    <tr>\n",
       "      <th>2</th>\n",
       "      <td>Albanie</td>\n",
       "      <td>2203.0</td>\n",
       "      <td>2.884169</td>\n",
       "    </tr>\n",
       "    <tr>\n",
       "      <th>3</th>\n",
       "      <td>Algérie</td>\n",
       "      <td>2915.0</td>\n",
       "      <td>41.389189</td>\n",
       "    </tr>\n",
       "    <tr>\n",
       "      <th>4</th>\n",
       "      <td>Allemagne</td>\n",
       "      <td>2461.0</td>\n",
       "      <td>82.658409</td>\n",
       "    </tr>\n",
       "    <tr>\n",
       "      <th>...</th>\n",
       "      <td>...</td>\n",
       "      <td>...</td>\n",
       "      <td>...</td>\n",
       "    </tr>\n",
       "    <tr>\n",
       "      <th>167</th>\n",
       "      <td>Émirats arabes unis</td>\n",
       "      <td>2718.0</td>\n",
       "      <td>9.487203</td>\n",
       "    </tr>\n",
       "    <tr>\n",
       "      <th>168</th>\n",
       "      <td>Équateur</td>\n",
       "      <td>1732.0</td>\n",
       "      <td>16.785361</td>\n",
       "    </tr>\n",
       "    <tr>\n",
       "      <th>169</th>\n",
       "      <td>États-Unis d'Amérique</td>\n",
       "      <td>2698.0</td>\n",
       "      <td>325.084756</td>\n",
       "    </tr>\n",
       "    <tr>\n",
       "      <th>170</th>\n",
       "      <td>Éthiopie</td>\n",
       "      <td>2005.0</td>\n",
       "      <td>106.399924</td>\n",
       "    </tr>\n",
       "    <tr>\n",
       "      <th>171</th>\n",
       "      <td>Îles Salomon</td>\n",
       "      <td>2187.0</td>\n",
       "      <td>0.636039</td>\n",
       "    </tr>\n",
       "  </tbody>\n",
       "</table>\n",
       "<p>172 rows × 3 columns</p>\n",
       "</div>"
      ],
      "text/plain": [
       "                      Zone  Disponibilité alimentaire (Kcal/personne/jour)  \\\n",
       "0              Afghanistan                                          1871.0   \n",
       "1           Afrique du Sud                                          2533.0   \n",
       "2                  Albanie                                          2203.0   \n",
       "3                  Algérie                                          2915.0   \n",
       "4                Allemagne                                          2461.0   \n",
       "..                     ...                                             ...   \n",
       "167    Émirats arabes unis                                          2718.0   \n",
       "168               Équateur                                          1732.0   \n",
       "169  États-Unis d'Amérique                                          2698.0   \n",
       "170               Éthiopie                                          2005.0   \n",
       "171           Îles Salomon                                          2187.0   \n",
       "\n",
       "     Valeur_pop  \n",
       "0     36.296113  \n",
       "1     57.009756  \n",
       "2      2.884169  \n",
       "3     41.389189  \n",
       "4     82.658409  \n",
       "..          ...  \n",
       "167    9.487203  \n",
       "168   16.785361  \n",
       "169  325.084756  \n",
       "170  106.399924  \n",
       "171    0.636039  \n",
       "\n",
       "[172 rows x 3 columns]"
      ]
     },
     "execution_count": 20,
     "metadata": {},
     "output_type": "execute_result"
    }
   ],
   "source": [
    "dis_vegetale_pop = pd.merge(dispo_vegetale_par_pays, pop2017, on='Zone')\n",
    "dis_vegetale_pop"
   ]
  },
  {
   "cell_type": "code",
   "execution_count": 21,
   "id": "56ca11e9-2739-49b1-93a2-5588b3042b19",
   "metadata": {},
   "outputs": [],
   "source": [
    "dis_vegetale_pop['Dispo alimentaire végétale totale (Kcal./jour)'] = dis_vegetale_pop['Disponibilité alimentaire (Kcal/personne/jour)'] * dis_vegetale_pop['Valeur_pop']"
   ]
  },
  {
   "cell_type": "code",
   "execution_count": 22,
   "id": "c7f96f4d-e05d-46b3-a65e-1dcabd39faed",
   "metadata": {},
   "outputs": [
    {
     "name": "stdout",
     "output_type": "stream",
     "text": [
      "Dans le cas de 1800 calories/jour, on peut nourrir: 9.59 milliards de personnes\n",
      "Dans le cas de 2500 calories/jour, on peut nourrir: 6.90 milliards de personnes\n",
      "Dans le cas de 2700 calories/jour, on peut nourrir: 6.39 milliards de personnes\n"
     ]
    }
   ],
   "source": [
    "for kcal in [1800, 2500, 2700]:\n",
    "    on_peut_nourrir_veg = dis_vegetale_pop['Dispo alimentaire végétale totale (Kcal./jour)'].sum()/kcal/1000\n",
    "    print('Dans le cas de {} calories/jour, on peut nourrir: {:.2f} milliards de personnes'.format(kcal, on_peut_nourrir_veg))"
   ]
  },
  {
   "cell_type": "markdown",
   "id": "db6c135c-da2f-4071-bc68-46806f7ef9cd",
   "metadata": {
    "tags": []
   },
   "source": [
    "## Demande Marc 4 - Utilisation de la disponibilité intérieure: part attribuée à l'alimentation animale"
   ]
  },
  {
   "cell_type": "code",
   "execution_count": 23,
   "id": "3eb708a9-ccb3-4b18-bbd0-afdc98045b20",
   "metadata": {},
   "outputs": [
    {
     "name": "stdout",
     "output_type": "stream",
     "text": [
      "La part attribuée à l'alimentation animale est de: 13.24 % \n"
     ]
    }
   ],
   "source": [
    "part_alim_animaux = (dis['Aliments pour animaux'].sum()) / (dis['Disponibilité intérieure'].sum())*100\n",
    "print('La part attribuée à l\\'alimentation animale est de: {:.2f} % '.format(part_alim_animaux))"
   ]
  },
  {
   "cell_type": "markdown",
   "id": "41605a59-ce22-4c98-956a-020d6562b0c1",
   "metadata": {
    "tags": []
   },
   "source": [
    "## Demande Marc 5 - Utilisation de la disponibilité intérieure: part perdue"
   ]
  },
  {
   "cell_type": "code",
   "execution_count": 24,
   "id": "9afc83a5-42ac-4487-bb24-d1f2cb305d69",
   "metadata": {},
   "outputs": [
    {
     "name": "stdout",
     "output_type": "stream",
     "text": [
      "La part perdue est de: 4.61 %\n"
     ]
    }
   ],
   "source": [
    "part_perdue = (dis['Pertes'].sum()) / (dis['Disponibilité intérieure'].sum())*100\n",
    "print('La part perdue est de: {:.2f} %'.format(part_perdue))"
   ]
  },
  {
   "cell_type": "markdown",
   "id": "da2bd0a2-cd22-4e18-9883-1ab0448cc21a",
   "metadata": {},
   "source": [
    "## Demande Marc 6 - Utilisation de la disponibilité intérieure: part utilisée pour l'alimentation humaine"
   ]
  },
  {
   "cell_type": "code",
   "execution_count": 25,
   "id": "0bcadd98-b858-44f4-a03e-60658885d0bd",
   "metadata": {},
   "outputs": [
    {
     "name": "stdout",
     "output_type": "stream",
     "text": [
      "La part attribuée à l'alimentation humaine est de: 49.51 %\n"
     ]
    }
   ],
   "source": [
    "part_alim_humaine = (dis['Nourriture'].sum()) / (dis['Disponibilité intérieure'].sum())*100\n",
    "print('La part attribuée à l\\'alimentation humaine est de: {:.2f} %'.format(part_alim_humaine))"
   ]
  },
  {
   "cell_type": "code",
   "execution_count": 26,
   "id": "db723f80-05e7-4ba8-8c1c-5609b351bbd6",
   "metadata": {},
   "outputs": [],
   "source": [
    "part_autres = 100-(part_alim_humaine + part_perdue + part_alim_animaux)"
   ]
  },
  {
   "cell_type": "code",
   "execution_count": 27,
   "id": "63790e8f-a40a-4808-b22e-75b1c322ab19",
   "metadata": {},
   "outputs": [
    {
     "data": {
      "image/png": "[encoded data removed]",
      "text/plain": [
       "<Figure size 432x288 with 1 Axes>"
      ]
     },
     "metadata": {},
     "output_type": "display_data"
    }
   ],
   "source": [
    "plt.style.use(\"fivethirtyeight\")\n",
    "plt.title('Utilisation de la disponibilité intérieure mondiale')\n",
    "slices = [part_alim_humaine, part_alim_animaux, part_perdue, part_autres]\n",
    "labels = ['Alimentation humaine', 'Aliments pour animaux', 'Pertes', 'Autres utilisations']\n",
    "explode = [0.05,0,0, 0]\n",
    "plt.pie(slices, labels = labels, autopct='%.1f', wedgeprops={'edgecolor': 'black'}, explode=explode, shadow=True)\n",
    "plt.show()"
   ]
  },
  {
   "cell_type": "markdown",
   "id": "2bce79b2-cb89-4d97-b0bb-bcbe5f7d560b",
   "metadata": {},
   "source": [
    "## Demande Mélanie 1 - Pays pour lesquels la proportion de personnes sous-alimentées est la plus forte en 2017"
   ]
  },
  {
   "cell_type": "code",
   "execution_count": 28,
   "id": "b49146d0-c329-4340-a71e-f70e907b7d22",
   "metadata": {},
   "outputs": [
    {
     "data": {
      "text/html": [
       "<div>\n",
       "<style scoped>\n",
       "    .dataframe tbody tr th:only-of-type {\n",
       "        vertical-align: middle;\n",
       "    }\n",
       "\n",
       "    .dataframe tbody tr th {\n",
       "        vertical-align: top;\n",
       "    }\n",
       "\n",
       "    .dataframe thead th {\n",
       "        text-align: right;\n",
       "    }\n",
       "</style>\n",
       "<table border=\"1\" class=\"dataframe\">\n",
       "  <thead>\n",
       "    <tr style=\"text-align: right;\">\n",
       "      <th></th>\n",
       "      <th>Zone</th>\n",
       "      <th>Valeur_ssn</th>\n",
       "      <th>Valeur_pop</th>\n",
       "    </tr>\n",
       "  </thead>\n",
       "  <tbody>\n",
       "    <tr>\n",
       "      <th>0</th>\n",
       "      <td>Afghanistan</td>\n",
       "      <td>10.5</td>\n",
       "      <td>36.296113</td>\n",
       "    </tr>\n",
       "    <tr>\n",
       "      <th>1</th>\n",
       "      <td>Afrique du Sud</td>\n",
       "      <td>3.1</td>\n",
       "      <td>57.009756</td>\n",
       "    </tr>\n",
       "    <tr>\n",
       "      <th>2</th>\n",
       "      <td>Albanie</td>\n",
       "      <td>0.1</td>\n",
       "      <td>2.884169</td>\n",
       "    </tr>\n",
       "    <tr>\n",
       "      <th>3</th>\n",
       "      <td>Algérie</td>\n",
       "      <td>1.3</td>\n",
       "      <td>41.389189</td>\n",
       "    </tr>\n",
       "    <tr>\n",
       "      <th>4</th>\n",
       "      <td>Allemagne</td>\n",
       "      <td>0.0</td>\n",
       "      <td>82.658409</td>\n",
       "    </tr>\n",
       "    <tr>\n",
       "      <th>...</th>\n",
       "      <td>...</td>\n",
       "      <td>...</td>\n",
       "      <td>...</td>\n",
       "    </tr>\n",
       "    <tr>\n",
       "      <th>231</th>\n",
       "      <td>Saint-Marin</td>\n",
       "      <td>0.0</td>\n",
       "      <td>0.033671</td>\n",
       "    </tr>\n",
       "    <tr>\n",
       "      <th>232</th>\n",
       "      <td>Saint-Martin (partie française)</td>\n",
       "      <td>0.0</td>\n",
       "      <td>0.036560</td>\n",
       "    </tr>\n",
       "    <tr>\n",
       "      <th>233</th>\n",
       "      <td>Saint-Pierre-et-Miquelon</td>\n",
       "      <td>0.0</td>\n",
       "      <td>0.005887</td>\n",
       "    </tr>\n",
       "    <tr>\n",
       "      <th>234</th>\n",
       "      <td>Saint-Siège</td>\n",
       "      <td>0.0</td>\n",
       "      <td>0.000793</td>\n",
       "    </tr>\n",
       "    <tr>\n",
       "      <th>235</th>\n",
       "      <td>Sint Maarten  (partie néerlandaise)</td>\n",
       "      <td>0.0</td>\n",
       "      <td>0.041444</td>\n",
       "    </tr>\n",
       "  </tbody>\n",
       "</table>\n",
       "<p>236 rows × 3 columns</p>\n",
       "</div>"
      ],
      "text/plain": [
       "                                    Zone  Valeur_ssn  Valeur_pop\n",
       "0                            Afghanistan        10.5   36.296113\n",
       "1                         Afrique du Sud         3.1   57.009756\n",
       "2                                Albanie         0.1    2.884169\n",
       "3                                Algérie         1.3   41.389189\n",
       "4                              Allemagne         0.0   82.658409\n",
       "..                                   ...         ...         ...\n",
       "231                          Saint-Marin         0.0    0.033671\n",
       "232      Saint-Martin (partie française)         0.0    0.036560\n",
       "233             Saint-Pierre-et-Miquelon         0.0    0.005887\n",
       "234                          Saint-Siège         0.0    0.000793\n",
       "235  Sint Maarten  (partie néerlandaise)         0.0    0.041444\n",
       "\n",
       "[236 rows x 3 columns]"
      ]
     },
     "execution_count": 28,
     "metadata": {},
     "output_type": "execute_result"
    }
   ],
   "source": [
    "ssn_pop_2017"
   ]
  },
  {
   "cell_type": "code",
   "execution_count": 29,
   "id": "7769a6e0-a7ab-49a9-9611-b84ee8a7d805",
   "metadata": {},
   "outputs": [],
   "source": [
    "ssn_pop_2017['Proportion de personnes sous-alimentées (%)'] = round(ssn_pop_2017['Valeur_ssn']/ssn_pop_2017['Valeur_pop']*100, 2)"
   ]
  },
  {
   "cell_type": "code",
   "execution_count": 30,
   "id": "8c82af71-88ac-405d-8c97-42595623feda",
   "metadata": {},
   "outputs": [
    {
     "data": {
      "text/html": [
       "<div>\n",
       "<style scoped>\n",
       "    .dataframe tbody tr th:only-of-type {\n",
       "        vertical-align: middle;\n",
       "    }\n",
       "\n",
       "    .dataframe tbody tr th {\n",
       "        vertical-align: top;\n",
       "    }\n",
       "\n",
       "    .dataframe thead th {\n",
       "        text-align: right;\n",
       "    }\n",
       "</style>\n",
       "<table border=\"1\" class=\"dataframe\">\n",
       "  <thead>\n",
       "    <tr style=\"text-align: right;\">\n",
       "      <th></th>\n",
       "      <th>Zone</th>\n",
       "      <th>Proportion de personnes sous-alimentées (%)</th>\n",
       "    </tr>\n",
       "  </thead>\n",
       "  <tbody>\n",
       "    <tr>\n",
       "      <th>78</th>\n",
       "      <td>Haïti</td>\n",
       "      <td>48.26</td>\n",
       "    </tr>\n",
       "    <tr>\n",
       "      <th>157</th>\n",
       "      <td>République populaire démocratique de Corée</td>\n",
       "      <td>47.19</td>\n",
       "    </tr>\n",
       "    <tr>\n",
       "      <th>108</th>\n",
       "      <td>Madagascar</td>\n",
       "      <td>41.06</td>\n",
       "    </tr>\n",
       "    <tr>\n",
       "      <th>103</th>\n",
       "      <td>Libéria</td>\n",
       "      <td>38.28</td>\n",
       "    </tr>\n",
       "    <tr>\n",
       "      <th>100</th>\n",
       "      <td>Lesotho</td>\n",
       "      <td>38.25</td>\n",
       "    </tr>\n",
       "    <tr>\n",
       "      <th>183</th>\n",
       "      <td>Tchad</td>\n",
       "      <td>37.96</td>\n",
       "    </tr>\n",
       "    <tr>\n",
       "      <th>161</th>\n",
       "      <td>Rwanda</td>\n",
       "      <td>35.06</td>\n",
       "    </tr>\n",
       "    <tr>\n",
       "      <th>121</th>\n",
       "      <td>Mozambique</td>\n",
       "      <td>32.81</td>\n",
       "    </tr>\n",
       "    <tr>\n",
       "      <th>186</th>\n",
       "      <td>Timor-Leste</td>\n",
       "      <td>32.17</td>\n",
       "    </tr>\n",
       "    <tr>\n",
       "      <th>0</th>\n",
       "      <td>Afghanistan</td>\n",
       "      <td>28.93</td>\n",
       "    </tr>\n",
       "    <tr>\n",
       "      <th>44</th>\n",
       "      <td>Congo</td>\n",
       "      <td>27.39</td>\n",
       "    </tr>\n",
       "    <tr>\n",
       "      <th>198</th>\n",
       "      <td>Venezuela (République bolivarienne du)</td>\n",
       "      <td>27.21</td>\n",
       "    </tr>\n",
       "    <tr>\n",
       "      <th>171</th>\n",
       "      <td>Sierra Leone</td>\n",
       "      <td>26.71</td>\n",
       "    </tr>\n",
       "    <tr>\n",
       "      <th>158</th>\n",
       "      <td>République-Unie de Tanzanie</td>\n",
       "      <td>24.52</td>\n",
       "    </tr>\n",
       "    <tr>\n",
       "      <th>87</th>\n",
       "      <td>Iraq</td>\n",
       "      <td>23.97</td>\n",
       "    </tr>\n",
       "    <tr>\n",
       "      <th>96</th>\n",
       "      <td>Kenya</td>\n",
       "      <td>23.70</td>\n",
       "    </tr>\n",
       "    <tr>\n",
       "      <th>26</th>\n",
       "      <td>Botswana</td>\n",
       "      <td>22.67</td>\n",
       "    </tr>\n",
       "    <tr>\n",
       "      <th>187</th>\n",
       "      <td>Togo</td>\n",
       "      <td>20.78</td>\n",
       "    </tr>\n",
       "    <tr>\n",
       "      <th>46</th>\n",
       "      <td>Côte d'Ivoire</td>\n",
       "      <td>20.05</td>\n",
       "    </tr>\n",
       "    <tr>\n",
       "      <th>61</th>\n",
       "      <td>Éthiopie</td>\n",
       "      <td>19.83</td>\n",
       "    </tr>\n",
       "  </tbody>\n",
       "</table>\n",
       "</div>"
      ],
      "text/plain": [
       "                                           Zone  \\\n",
       "78                                        Haïti   \n",
       "157  République populaire démocratique de Corée   \n",
       "108                                  Madagascar   \n",
       "103                                     Libéria   \n",
       "100                                     Lesotho   \n",
       "183                                       Tchad   \n",
       "161                                      Rwanda   \n",
       "121                                  Mozambique   \n",
       "186                                 Timor-Leste   \n",
       "0                                   Afghanistan   \n",
       "44                                        Congo   \n",
       "198      Venezuela (République bolivarienne du)   \n",
       "171                                Sierra Leone   \n",
       "158                 République-Unie de Tanzanie   \n",
       "87                                         Iraq   \n",
       "96                                        Kenya   \n",
       "26                                     Botswana   \n",
       "187                                        Togo   \n",
       "46                                Côte d'Ivoire   \n",
       "61                                     Éthiopie   \n",
       "\n",
       "     Proportion de personnes sous-alimentées (%)  \n",
       "78                                         48.26  \n",
       "157                                        47.19  \n",
       "108                                        41.06  \n",
       "103                                        38.28  \n",
       "100                                        38.25  \n",
       "183                                        37.96  \n",
       "161                                        35.06  \n",
       "121                                        32.81  \n",
       "186                                        32.17  \n",
       "0                                          28.93  \n",
       "44                                         27.39  \n",
       "198                                        27.21  \n",
       "171                                        26.71  \n",
       "158                                        24.52  \n",
       "87                                         23.97  \n",
       "96                                         23.70  \n",
       "26                                         22.67  \n",
       "187                                        20.78  \n",
       "46                                         20.05  \n",
       "61                                         19.83  "
      ]
     },
     "execution_count": 30,
     "metadata": {},
     "output_type": "execute_result"
    }
   ],
   "source": [
    "plus_ss_alim = pd.DataFrame(ssn_pop_2017.sort_values(by='Proportion de personnes sous-alimentées (%)', ascending=False).iloc[:20])\n",
    "plus_ss_alim[['Zone','Proportion de personnes sous-alimentées (%)']]"
   ]
  },
  {
   "cell_type": "code",
   "execution_count": 31,
   "id": "28daa37d-2820-46c6-a109-817559032096",
   "metadata": {},
   "outputs": [],
   "source": [
    "plus_ss_alim1 = plus_ss_alim.sort_values(by='Proportion de personnes sous-alimentées (%)')"
   ]
  },
  {
   "cell_type": "code",
   "execution_count": 32,
   "id": "f138fb4b-04ff-43d1-a5d5-ffc2d5a0ba0f",
   "metadata": {},
   "outputs": [
    {
     "data": {
      "image/png": "[encoded data removed]",
      "text/plain": [
       "<Figure size 432x288 with 1 Axes>"
      ]
     },
     "metadata": {},
     "output_type": "display_data"
    }
   ],
   "source": [
    "plt.style.use(\"fivethirtyeight\")\n",
    "plt.title('Les 20 pays où la sous-alimentation est la plus forte en 2017')\n",
    "plt.barh(plus_ss_alim1['Zone'], plus_ss_alim1['Proportion de personnes sous-alimentées (%)'])\n",
    "plt.show()"
   ]
  },
  {
   "cell_type": "markdown",
   "id": "24efa56e-1ff5-4c6d-8c54-903ced5ea56a",
   "metadata": {},
   "source": [
    "## Demande Mélanie 2 - Pays qui ont le plus bénéficié d’aide depuis 2013"
   ]
  },
  {
   "cell_type": "code",
   "execution_count": 33,
   "id": "c24f7447-3467-483a-84ac-c5121d72e355",
   "metadata": {},
   "outputs": [
    {
     "data": {
      "text/plain": [
       "array([2013, 2014, 2015, 2016], dtype=int64)"
      ]
     },
     "execution_count": 33,
     "metadata": {},
     "output_type": "execute_result"
    }
   ],
   "source": [
    "aid['Année'].unique()"
   ]
  },
  {
   "cell_type": "code",
   "execution_count": 34,
   "id": "20f92803-9446-472b-ba58-2454a2b1cd0e",
   "metadata": {},
   "outputs": [],
   "source": [
    "cumul_aides_depuis_2013 = pd.DataFrame(aid.groupby('Pays bénéficiaire') ['Valeur_aid'].sum())"
   ]
  },
  {
   "cell_type": "code",
   "execution_count": 35,
   "id": "073a6a73-ebca-40e5-8203-b4fc6c2a91ca",
   "metadata": {
    "tags": []
   },
   "outputs": [],
   "source": [
    "cumul_aides_depuis_2013 = cumul_aides_depuis_2013.rename(columns={'Valeur_aid': 'Aide cumulée 2013-2016 (milliers de tonnes)'})"
   ]
  },
  {
   "cell_type": "code",
   "execution_count": 36,
   "id": "7b92f2c9-0aa1-4fdd-9bdf-52183d47b36a",
   "metadata": {},
   "outputs": [],
   "source": [
    "cumul_aides_depuis_2013['Aide cumulée 2013-2016 (milliers de tonnes)'] = cumul_aides_depuis_2013['Aide cumulée 2013-2016 (milliers de tonnes)']/1000"
   ]
  },
  {
   "cell_type": "code",
   "execution_count": 37,
   "id": "ba6fc9d5-61a0-42a4-861d-a3b56aaa4d8c",
   "metadata": {},
   "outputs": [
    {
     "data": {
      "text/html": [
       "<div>\n",
       "<style scoped>\n",
       "    .dataframe tbody tr th:only-of-type {\n",
       "        vertical-align: middle;\n",
       "    }\n",
       "\n",
       "    .dataframe tbody tr th {\n",
       "        vertical-align: top;\n",
       "    }\n",
       "\n",
       "    .dataframe thead th {\n",
       "        text-align: right;\n",
       "    }\n",
       "</style>\n",
       "<table border=\"1\" class=\"dataframe\">\n",
       "  <thead>\n",
       "    <tr style=\"text-align: right;\">\n",
       "      <th></th>\n",
       "      <th>Aide cumulée 2013-2016 (milliers de tonnes)</th>\n",
       "    </tr>\n",
       "    <tr>\n",
       "      <th>Pays bénéficiaire</th>\n",
       "      <th></th>\n",
       "    </tr>\n",
       "  </thead>\n",
       "  <tbody>\n",
       "    <tr>\n",
       "      <th>République arabe syrienne</th>\n",
       "      <td>1858.943</td>\n",
       "    </tr>\n",
       "    <tr>\n",
       "      <th>Éthiopie</th>\n",
       "      <td>1381.294</td>\n",
       "    </tr>\n",
       "    <tr>\n",
       "      <th>Yémen</th>\n",
       "      <td>1206.484</td>\n",
       "    </tr>\n",
       "    <tr>\n",
       "      <th>Soudan du Sud</th>\n",
       "      <td>695.248</td>\n",
       "    </tr>\n",
       "    <tr>\n",
       "      <th>Soudan</th>\n",
       "      <td>669.784</td>\n",
       "    </tr>\n",
       "    <tr>\n",
       "      <th>Kenya</th>\n",
       "      <td>552.836</td>\n",
       "    </tr>\n",
       "    <tr>\n",
       "      <th>Bangladesh</th>\n",
       "      <td>348.188</td>\n",
       "    </tr>\n",
       "    <tr>\n",
       "      <th>Somalie</th>\n",
       "      <td>292.678</td>\n",
       "    </tr>\n",
       "    <tr>\n",
       "      <th>République démocratique du Congo</th>\n",
       "      <td>288.502</td>\n",
       "    </tr>\n",
       "    <tr>\n",
       "      <th>Niger</th>\n",
       "      <td>276.344</td>\n",
       "    </tr>\n",
       "  </tbody>\n",
       "</table>\n",
       "</div>"
      ],
      "text/plain": [
       "                                  Aide cumulée 2013-2016 (milliers de tonnes)\n",
       "Pays bénéficiaire                                                            \n",
       "République arabe syrienne                                            1858.943\n",
       "Éthiopie                                                             1381.294\n",
       "Yémen                                                                1206.484\n",
       "Soudan du Sud                                                         695.248\n",
       "Soudan                                                                669.784\n",
       "Kenya                                                                 552.836\n",
       "Bangladesh                                                            348.188\n",
       "Somalie                                                               292.678\n",
       "République démocratique du Congo                                      288.502\n",
       "Niger                                                                 276.344"
      ]
     },
     "execution_count": 37,
     "metadata": {},
     "output_type": "execute_result"
    }
   ],
   "source": [
    "cumul_aides_depuis_2013.sort_values(by=['Aide cumulée 2013-2016 (milliers de tonnes)'], ascending=False).iloc[:10]"
   ]
  },
  {
   "cell_type": "markdown",
   "id": "bf20df60-23ca-44c6-a383-a41ab04e8598",
   "metadata": {
    "tags": []
   },
   "source": [
    "## Demande Mélanie 3 - Pays qui ont la plus grande disponibilité alimentaire par habitant"
   ]
  },
  {
   "cell_type": "code",
   "execution_count": 38,
   "id": "b2186154-6f1f-47a8-9a3b-afcaeee85372",
   "metadata": {
    "tags": []
   },
   "outputs": [
    {
     "data": {
      "text/html": [
       "<div>\n",
       "<style scoped>\n",
       "    .dataframe tbody tr th:only-of-type {\n",
       "        vertical-align: middle;\n",
       "    }\n",
       "\n",
       "    .dataframe tbody tr th {\n",
       "        vertical-align: top;\n",
       "    }\n",
       "\n",
       "    .dataframe thead th {\n",
       "        text-align: right;\n",
       "    }\n",
       "</style>\n",
       "<table border=\"1\" class=\"dataframe\">\n",
       "  <thead>\n",
       "    <tr style=\"text-align: right;\">\n",
       "      <th></th>\n",
       "      <th>Disponibilité alimentaire (Kcal/personne/jour)</th>\n",
       "    </tr>\n",
       "    <tr>\n",
       "      <th>Zone</th>\n",
       "      <th></th>\n",
       "    </tr>\n",
       "  </thead>\n",
       "  <tbody>\n",
       "    <tr>\n",
       "      <th>Autriche</th>\n",
       "      <td>3770.0</td>\n",
       "    </tr>\n",
       "    <tr>\n",
       "      <th>Belgique</th>\n",
       "      <td>3737.0</td>\n",
       "    </tr>\n",
       "    <tr>\n",
       "      <th>Turquie</th>\n",
       "      <td>3708.0</td>\n",
       "    </tr>\n",
       "    <tr>\n",
       "      <th>États-Unis d'Amérique</th>\n",
       "      <td>3682.0</td>\n",
       "    </tr>\n",
       "    <tr>\n",
       "      <th>Israël</th>\n",
       "      <td>3610.0</td>\n",
       "    </tr>\n",
       "    <tr>\n",
       "      <th>Irlande</th>\n",
       "      <td>3602.0</td>\n",
       "    </tr>\n",
       "    <tr>\n",
       "      <th>Italie</th>\n",
       "      <td>3578.0</td>\n",
       "    </tr>\n",
       "    <tr>\n",
       "      <th>Luxembourg</th>\n",
       "      <td>3540.0</td>\n",
       "    </tr>\n",
       "    <tr>\n",
       "      <th>Égypte</th>\n",
       "      <td>3518.0</td>\n",
       "    </tr>\n",
       "    <tr>\n",
       "      <th>Allemagne</th>\n",
       "      <td>3503.0</td>\n",
       "    </tr>\n",
       "  </tbody>\n",
       "</table>\n",
       "</div>"
      ],
      "text/plain": [
       "                       Disponibilité alimentaire (Kcal/personne/jour)\n",
       "Zone                                                                 \n",
       "Autriche                                                       3770.0\n",
       "Belgique                                                       3737.0\n",
       "Turquie                                                        3708.0\n",
       "États-Unis d'Amérique                                          3682.0\n",
       "Israël                                                         3610.0\n",
       "Irlande                                                        3602.0\n",
       "Italie                                                         3578.0\n",
       "Luxembourg                                                     3540.0\n",
       "Égypte                                                         3518.0\n",
       "Allemagne                                                      3503.0"
      ]
     },
     "execution_count": 38,
     "metadata": {},
     "output_type": "execute_result"
    }
   ],
   "source": [
    "dispo_par_pays.sort_values(by=['Disponibilité alimentaire (Kcal/personne/jour)'], ascending=False).iloc[:10]"
   ]
  },
  {
   "cell_type": "markdown",
   "id": "4da0597e-4143-4950-9eec-ffb77614f2c2",
   "metadata": {},
   "source": [
    "# Demande 4 - Pays qui ont la plus faible disponibilité alimentaire par habitant"
   ]
  },
  {
   "cell_type": "code",
   "execution_count": 39,
   "id": "7566ac52-ca85-4ae7-aabf-c0eba924795d",
   "metadata": {},
   "outputs": [
    {
     "data": {
      "text/html": [
       "<div>\n",
       "<style scoped>\n",
       "    .dataframe tbody tr th:only-of-type {\n",
       "        vertical-align: middle;\n",
       "    }\n",
       "\n",
       "    .dataframe tbody tr th {\n",
       "        vertical-align: top;\n",
       "    }\n",
       "\n",
       "    .dataframe thead th {\n",
       "        text-align: right;\n",
       "    }\n",
       "</style>\n",
       "<table border=\"1\" class=\"dataframe\">\n",
       "  <thead>\n",
       "    <tr style=\"text-align: right;\">\n",
       "      <th></th>\n",
       "      <th>Disponibilité alimentaire (Kcal/personne/jour)</th>\n",
       "    </tr>\n",
       "    <tr>\n",
       "      <th>Zone</th>\n",
       "      <th></th>\n",
       "    </tr>\n",
       "  </thead>\n",
       "  <tbody>\n",
       "    <tr>\n",
       "      <th>République centrafricaine</th>\n",
       "      <td>1879.0</td>\n",
       "    </tr>\n",
       "    <tr>\n",
       "      <th>Zambie</th>\n",
       "      <td>1924.0</td>\n",
       "    </tr>\n",
       "    <tr>\n",
       "      <th>Madagascar</th>\n",
       "      <td>2056.0</td>\n",
       "    </tr>\n",
       "    <tr>\n",
       "      <th>Afghanistan</th>\n",
       "      <td>2087.0</td>\n",
       "    </tr>\n",
       "    <tr>\n",
       "      <th>Haïti</th>\n",
       "      <td>2089.0</td>\n",
       "    </tr>\n",
       "    <tr>\n",
       "      <th>République populaire démocratique de Corée</th>\n",
       "      <td>2093.0</td>\n",
       "    </tr>\n",
       "    <tr>\n",
       "      <th>Tchad</th>\n",
       "      <td>2109.0</td>\n",
       "    </tr>\n",
       "    <tr>\n",
       "      <th>Zimbabwe</th>\n",
       "      <td>2113.0</td>\n",
       "    </tr>\n",
       "    <tr>\n",
       "      <th>Ouganda</th>\n",
       "      <td>2126.0</td>\n",
       "    </tr>\n",
       "    <tr>\n",
       "      <th>Timor-Leste</th>\n",
       "      <td>2129.0</td>\n",
       "    </tr>\n",
       "  </tbody>\n",
       "</table>\n",
       "</div>"
      ],
      "text/plain": [
       "                                            Disponibilité alimentaire (Kcal/personne/jour)\n",
       "Zone                                                                                      \n",
       "République centrafricaine                                                           1879.0\n",
       "Zambie                                                                              1924.0\n",
       "Madagascar                                                                          2056.0\n",
       "Afghanistan                                                                         2087.0\n",
       "Haïti                                                                               2089.0\n",
       "République populaire démocratique de Corée                                          2093.0\n",
       "Tchad                                                                               2109.0\n",
       "Zimbabwe                                                                            2113.0\n",
       "Ouganda                                                                             2126.0\n",
       "Timor-Leste                                                                         2129.0"
      ]
     },
     "execution_count": 39,
     "metadata": {},
     "output_type": "execute_result"
    }
   ],
   "source": [
    "dispo_par_pays.sort_values(by=['Disponibilité alimentaire (Kcal/personne/jour)']).iloc[:10]"
   ]
  },
  {
   "cell_type": "markdown",
   "id": "3c22d4a5-9a6d-4bb3-b717-4a83000f3c79",
   "metadata": {},
   "source": [
    "# Demandes annexes"
   ]
  },
  {
   "cell_type": "markdown",
   "id": "266bc330-d1c0-4024-8837-e54ff35347b3",
   "metadata": {},
   "source": [
    ">>### 1. Répartition de l'utilisation des céréales:"
   ]
  },
  {
   "cell_type": "code",
   "execution_count": 40,
   "id": "f7e0a513-e43f-4e8e-8a0c-e1e8baa244ae",
   "metadata": {},
   "outputs": [],
   "source": [
    "fichier_cereales = pd.read_csv('FAOSTAT_data_1-26-2022.csv')"
   ]
  },
  {
   "cell_type": "code",
   "execution_count": 41,
   "id": "8f305b85-f4ad-479f-8287-34e3c5d032bd",
   "metadata": {},
   "outputs": [
    {
     "data": {
      "text/plain": [
       "array(['Bl? et produits', 'Riz (Eq Blanchi)', 'Orge et produits',\n",
       "       'Ma?s et produits', 'Seigle et produits', 'Avoine',\n",
       "       'Millet et produits', 'Sorgho et produits', 'C?r?ales, Autres'],\n",
       "      dtype=object)"
      ]
     },
     "execution_count": 41,
     "metadata": {},
     "output_type": "execute_result"
    }
   ],
   "source": [
    "fichier_cereales['Produit'].unique()"
   ]
  },
  {
   "cell_type": "code",
   "execution_count": 42,
   "id": "98b229ae-5a1e-4089-8ebe-6e9bbe25eefb",
   "metadata": {},
   "outputs": [],
   "source": [
    "cereales = ['Blé', 'Seigle', 'Orge', 'Avoine', 'Maïs', 'Millet', 'Riz (Eq Blanchi)', 'Sorgho', 'Céréales, Autres']\n",
    "is_cereal = dis.loc[dis['Produit'].isin(cereales), ['Produit', 'Disponibilité intérieure', 'Nourriture', 'Aliments pour animaux', 'Pertes', 'Semences', 'Traitement', 'Autres Utilisations']]"
   ]
  },
  {
   "cell_type": "code",
   "execution_count": 43,
   "id": "fae6f464-e83c-4cdf-8e71-922399b45085",
   "metadata": {},
   "outputs": [
    {
     "name": "stdout",
     "output_type": "stream",
     "text": [
      "Répartition de l'utilisation de la disponibilité en céréales:\n",
      "Nourriture : 42.75 %\n",
      "Aliments pour animaux : 36.29 %\n",
      "Pertes : 4.45 %\n",
      "Semences : 2.85 %\n",
      "Traitement : 3.93 %\n",
      "Autres Utilisations : 9.75 %\n"
     ]
    }
   ],
   "source": [
    "resultats_cereales = []\n",
    "print('Répartition de l\\'utilisation de la disponibilité en céréales:')\n",
    "utilisations = ['Nourriture', 'Aliments pour animaux', 'Pertes', 'Semences', 'Traitement', 'Autres Utilisations']\n",
    "for col in utilisations:\n",
    "    tx_utilisation  = (is_cereal[col].sum()) / (is_cereal['Disponibilité intérieure'].sum())*100\n",
    "    print('{} : {:.2f} %'.format(col, tx_utilisation))\n",
    "    resultats_cereales.append(tx_utilisation)"
   ]
  },
  {
   "cell_type": "code",
   "execution_count": 44,
   "id": "bf93ac5f-5df0-4d68-8d66-09338ae42319",
   "metadata": {},
   "outputs": [
    {
     "data": {
      "image/png": "[encoded data removed]",
      "text/plain": [
       "<Figure size 432x288 with 1 Axes>"
      ]
     },
     "metadata": {},
     "output_type": "display_data"
    }
   ],
   "source": [
    "plt.style.use(\"fivethirtyeight\")\n",
    "plt.title('Répartition de l\\'utilisation des céréales (en %)')\n",
    "explode = [0.05,0,0,0,0,0]\n",
    "plt.pie(resultats_cereales, labels = utilisations, autopct='%.0f', wedgeprops={'edgecolor': 'black'}, explode=explode, shadow=True)\n",
    "plt.savefig('cereales.png')\n",
    "plt.show()"
   ]
  },
  {
   "cell_type": "markdown",
   "id": "69914792-8a4b-4437-ac03-ded60ea1214c",
   "metadata": {},
   "source": [
    ">>### 2. Utilisation du manioc en Thaïlande:"
   ]
  },
  {
   "cell_type": "code",
   "execution_count": 45,
   "id": "47752bf8-d67b-47ad-9684-1770aeb0448d",
   "metadata": {},
   "outputs": [
    {
     "data": {
      "text/html": [
       "<div>\n",
       "<style scoped>\n",
       "    .dataframe tbody tr th:only-of-type {\n",
       "        vertical-align: middle;\n",
       "    }\n",
       "\n",
       "    .dataframe tbody tr th {\n",
       "        vertical-align: top;\n",
       "    }\n",
       "\n",
       "    .dataframe thead th {\n",
       "        text-align: right;\n",
       "    }\n",
       "</style>\n",
       "<table border=\"1\" class=\"dataframe\">\n",
       "  <thead>\n",
       "    <tr style=\"text-align: right;\">\n",
       "      <th></th>\n",
       "      <th>Zone</th>\n",
       "      <th>Proportion de personnes sous-alimentées (%)</th>\n",
       "    </tr>\n",
       "  </thead>\n",
       "  <tbody>\n",
       "    <tr>\n",
       "      <th>185</th>\n",
       "      <td>Thaïlande</td>\n",
       "      <td>8.96</td>\n",
       "    </tr>\n",
       "  </tbody>\n",
       "</table>\n",
       "</div>"
      ],
      "text/plain": [
       "          Zone  Proportion de personnes sous-alimentées (%)\n",
       "185  Thaïlande                                         8.96"
      ]
     },
     "execution_count": 45,
     "metadata": {},
     "output_type": "execute_result"
    }
   ],
   "source": [
    "ssn_pop_2017.loc[ssn_pop_2017['Zone'] == 'Thaïlande',['Zone', 'Proportion de personnes sous-alimentées (%)']]"
   ]
  },
  {
   "cell_type": "code",
   "execution_count": 46,
   "id": "2a42c6dd-507a-4f81-80f9-9a93cf1cb85e",
   "metadata": {
    "tags": []
   },
   "outputs": [
    {
     "data": {
      "text/html": [
       "<div>\n",
       "<style scoped>\n",
       "    .dataframe tbody tr th:only-of-type {\n",
       "        vertical-align: middle;\n",
       "    }\n",
       "\n",
       "    .dataframe tbody tr th {\n",
       "        vertical-align: top;\n",
       "    }\n",
       "\n",
       "    .dataframe thead th {\n",
       "        text-align: right;\n",
       "    }\n",
       "</style>\n",
       "<table border=\"1\" class=\"dataframe\">\n",
       "  <thead>\n",
       "    <tr style=\"text-align: right;\">\n",
       "      <th></th>\n",
       "      <th>Zone</th>\n",
       "      <th>Valeur_ssn</th>\n",
       "      <th>Valeur_pop</th>\n",
       "      <th>Proportion de personnes sous-alimentées (%)</th>\n",
       "    </tr>\n",
       "  </thead>\n",
       "  <tbody>\n",
       "    <tr>\n",
       "      <th>0</th>\n",
       "      <td>Afghanistan</td>\n",
       "      <td>10.5</td>\n",
       "      <td>36.296113</td>\n",
       "      <td>28.93</td>\n",
       "    </tr>\n",
       "    <tr>\n",
       "      <th>1</th>\n",
       "      <td>Afrique du Sud</td>\n",
       "      <td>3.1</td>\n",
       "      <td>57.009756</td>\n",
       "      <td>5.44</td>\n",
       "    </tr>\n",
       "    <tr>\n",
       "      <th>2</th>\n",
       "      <td>Albanie</td>\n",
       "      <td>0.1</td>\n",
       "      <td>2.884169</td>\n",
       "      <td>3.47</td>\n",
       "    </tr>\n",
       "    <tr>\n",
       "      <th>3</th>\n",
       "      <td>Algérie</td>\n",
       "      <td>1.3</td>\n",
       "      <td>41.389189</td>\n",
       "      <td>3.14</td>\n",
       "    </tr>\n",
       "    <tr>\n",
       "      <th>4</th>\n",
       "      <td>Allemagne</td>\n",
       "      <td>0.0</td>\n",
       "      <td>82.658409</td>\n",
       "      <td>0.00</td>\n",
       "    </tr>\n",
       "    <tr>\n",
       "      <th>...</th>\n",
       "      <td>...</td>\n",
       "      <td>...</td>\n",
       "      <td>...</td>\n",
       "      <td>...</td>\n",
       "    </tr>\n",
       "    <tr>\n",
       "      <th>231</th>\n",
       "      <td>Saint-Marin</td>\n",
       "      <td>0.0</td>\n",
       "      <td>0.033671</td>\n",
       "      <td>0.00</td>\n",
       "    </tr>\n",
       "    <tr>\n",
       "      <th>232</th>\n",
       "      <td>Saint-Martin (partie française)</td>\n",
       "      <td>0.0</td>\n",
       "      <td>0.036560</td>\n",
       "      <td>0.00</td>\n",
       "    </tr>\n",
       "    <tr>\n",
       "      <th>233</th>\n",
       "      <td>Saint-Pierre-et-Miquelon</td>\n",
       "      <td>0.0</td>\n",
       "      <td>0.005887</td>\n",
       "      <td>0.00</td>\n",
       "    </tr>\n",
       "    <tr>\n",
       "      <th>234</th>\n",
       "      <td>Saint-Siège</td>\n",
       "      <td>0.0</td>\n",
       "      <td>0.000793</td>\n",
       "      <td>0.00</td>\n",
       "    </tr>\n",
       "    <tr>\n",
       "      <th>235</th>\n",
       "      <td>Sint Maarten  (partie néerlandaise)</td>\n",
       "      <td>0.0</td>\n",
       "      <td>0.041444</td>\n",
       "      <td>0.00</td>\n",
       "    </tr>\n",
       "  </tbody>\n",
       "</table>\n",
       "<p>236 rows × 4 columns</p>\n",
       "</div>"
      ],
      "text/plain": [
       "                                    Zone  Valeur_ssn  Valeur_pop  \\\n",
       "0                            Afghanistan        10.5   36.296113   \n",
       "1                         Afrique du Sud         3.1   57.009756   \n",
       "2                                Albanie         0.1    2.884169   \n",
       "3                                Algérie         1.3   41.389189   \n",
       "4                              Allemagne         0.0   82.658409   \n",
       "..                                   ...         ...         ...   \n",
       "231                          Saint-Marin         0.0    0.033671   \n",
       "232      Saint-Martin (partie française)         0.0    0.036560   \n",
       "233             Saint-Pierre-et-Miquelon         0.0    0.005887   \n",
       "234                          Saint-Siège         0.0    0.000793   \n",
       "235  Sint Maarten  (partie néerlandaise)         0.0    0.041444   \n",
       "\n",
       "     Proportion de personnes sous-alimentées (%)  \n",
       "0                                          28.93  \n",
       "1                                           5.44  \n",
       "2                                           3.47  \n",
       "3                                           3.14  \n",
       "4                                           0.00  \n",
       "..                                           ...  \n",
       "231                                         0.00  \n",
       "232                                         0.00  \n",
       "233                                         0.00  \n",
       "234                                         0.00  \n",
       "235                                         0.00  \n",
       "\n",
       "[236 rows x 4 columns]"
      ]
     },
     "execution_count": 46,
     "metadata": {},
     "output_type": "execute_result"
    }
   ],
   "source": [
    "ssn_pop_2017"
   ]
  },
  {
   "cell_type": "code",
   "execution_count": 47,
   "id": "a6d0e6a5-1e67-49fa-8598-61eb74ecfa52",
   "metadata": {},
   "outputs": [],
   "source": [
    "utilisation_manioc_th = dis.loc[(dis['Zone']=='Thaïlande') & (dis['Produit'] == 'Manioc'), ['Production', 'Importations - Quantité', 'Exportations - Quantité', 'Disponibilité intérieure', 'Nourriture', 'Aliments pour animaux', 'Pertes']]"
   ]
  },
  {
   "cell_type": "code",
   "execution_count": 48,
   "id": "926a5572-b320-4d2c-ae3a-2f26af710584",
   "metadata": {},
   "outputs": [
    {
     "name": "stdout",
     "output_type": "stream",
     "text": [
      "Utilisation du manioc disponible en Thaïlande:\n"
     ]
    },
    {
     "data": {
      "text/html": [
       "<div>\n",
       "<style scoped>\n",
       "    .dataframe tbody tr th:only-of-type {\n",
       "        vertical-align: middle;\n",
       "    }\n",
       "\n",
       "    .dataframe tbody tr th {\n",
       "        vertical-align: top;\n",
       "    }\n",
       "\n",
       "    .dataframe thead th {\n",
       "        text-align: right;\n",
       "    }\n",
       "</style>\n",
       "<table border=\"1\" class=\"dataframe\">\n",
       "  <thead>\n",
       "    <tr style=\"text-align: right;\">\n",
       "      <th></th>\n",
       "      <th>Production</th>\n",
       "      <th>Importations - Quantité</th>\n",
       "      <th>Exportations - Quantité</th>\n",
       "      <th>Disponibilité intérieure</th>\n",
       "      <th>Nourriture</th>\n",
       "      <th>Aliments pour animaux</th>\n",
       "      <th>Pertes</th>\n",
       "    </tr>\n",
       "  </thead>\n",
       "  <tbody>\n",
       "    <tr>\n",
       "      <th>13809</th>\n",
       "      <td>30228.0</td>\n",
       "      <td>1250.0</td>\n",
       "      <td>25214.0</td>\n",
       "      <td>6264.0</td>\n",
       "      <td>871.0</td>\n",
       "      <td>1800.0</td>\n",
       "      <td>1511.0</td>\n",
       "    </tr>\n",
       "  </tbody>\n",
       "</table>\n",
       "</div>"
      ],
      "text/plain": [
       "       Production  Importations - Quantité  Exportations - Quantité  \\\n",
       "13809     30228.0                   1250.0                  25214.0   \n",
       "\n",
       "       Disponibilité intérieure  Nourriture  Aliments pour animaux  Pertes  \n",
       "13809                    6264.0       871.0                 1800.0  1511.0  "
      ]
     },
     "execution_count": 48,
     "metadata": {},
     "output_type": "execute_result"
    }
   ],
   "source": [
    "print('Utilisation du manioc disponible en Thaïlande:')\n",
    "utilisation_manioc_th"
   ]
  },
  {
   "cell_type": "code",
   "execution_count": 49,
   "id": "65494d3e-0d5e-48e2-b862-c190856efa16",
   "metadata": {},
   "outputs": [
    {
     "name": "stdout",
     "output_type": "stream",
     "text": [
      "Part du manioc produit en Thaïlande qui est exportée: 83.4 %\n"
     ]
    }
   ],
   "source": [
    "exp_prod_manioc = utilisation_manioc_th['Exportations - Quantité'].sum()/utilisation_manioc_th['Production'].sum()*100\n",
    "print('Part du manioc produit en Thaïlande qui est exportée: {:.1f} %'.format(exp_prod_manioc))"
   ]
  },
  {
   "cell_type": "markdown",
   "id": "15af8e9b-2160-4bc4-a694-8732d638f1f2",
   "metadata": {},
   "source": [
    ">>### 3. Infos utiles:"
   ]
  },
  {
   "cell_type": "markdown",
   "id": "8708226a-8f68-4acc-95bb-36896869ee97",
   "metadata": {},
   "source": [
    ">>>#### analyse pertes / disponibilté intérieure:"
   ]
  },
  {
   "cell_type": "code",
   "execution_count": 50,
   "id": "c376584d-9696-456e-b666-4bfa0d0f54d6",
   "metadata": {},
   "outputs": [],
   "source": [
    "analyse_pertes = pd.DataFrame(dis.groupby('Zone') ['Pertes'].sum())\n",
    "analyse_pertes['Disponibilité intérieure']= dis.groupby('Zone') ['Disponibilité intérieure'].sum()"
   ]
  },
  {
   "cell_type": "code",
   "execution_count": 51,
   "id": "114318ba-019e-4611-bec0-1e589cab3a73",
   "metadata": {},
   "outputs": [],
   "source": [
    "analyse_pertes['Taux pertes']= round(analyse_pertes['Pertes']/analyse_pertes['Disponibilité intérieure']*100, 2)"
   ]
  },
  {
   "cell_type": "code",
   "execution_count": 52,
   "id": "77f21fad-cb96-4943-bd0b-5a3c4ed55b1a",
   "metadata": {},
   "outputs": [],
   "source": [
    "analyse_pertes_pays_ss_alim = pd.merge(analyse_pertes, plus_ss_alim, on='Zone', how='right')"
   ]
  },
  {
   "cell_type": "code",
   "execution_count": 53,
   "id": "f6ea4188-ab87-4f95-b0f8-ac293e87e77e",
   "metadata": {},
   "outputs": [
    {
     "data": {
      "text/html": [
       "<div>\n",
       "<style scoped>\n",
       "    .dataframe tbody tr th:only-of-type {\n",
       "        vertical-align: middle;\n",
       "    }\n",
       "\n",
       "    .dataframe tbody tr th {\n",
       "        vertical-align: top;\n",
       "    }\n",
       "\n",
       "    .dataframe thead th {\n",
       "        text-align: right;\n",
       "    }\n",
       "</style>\n",
       "<table border=\"1\" class=\"dataframe\">\n",
       "  <thead>\n",
       "    <tr style=\"text-align: right;\">\n",
       "      <th></th>\n",
       "      <th>Zone</th>\n",
       "      <th>Taux pertes</th>\n",
       "    </tr>\n",
       "  </thead>\n",
       "  <tbody>\n",
       "    <tr>\n",
       "      <th>12</th>\n",
       "      <td>Sierra Leone</td>\n",
       "      <td>33.35</td>\n",
       "    </tr>\n",
       "    <tr>\n",
       "      <th>17</th>\n",
       "      <td>Togo</td>\n",
       "      <td>11.62</td>\n",
       "    </tr>\n",
       "    <tr>\n",
       "      <th>0</th>\n",
       "      <td>Haïti</td>\n",
       "      <td>11.00</td>\n",
       "    </tr>\n",
       "    <tr>\n",
       "      <th>10</th>\n",
       "      <td>Congo</td>\n",
       "      <td>9.66</td>\n",
       "    </tr>\n",
       "    <tr>\n",
       "      <th>5</th>\n",
       "      <td>Tchad</td>\n",
       "      <td>8.65</td>\n",
       "    </tr>\n",
       "    <tr>\n",
       "      <th>18</th>\n",
       "      <td>Côte d'Ivoire</td>\n",
       "      <td>8.51</td>\n",
       "    </tr>\n",
       "    <tr>\n",
       "      <th>13</th>\n",
       "      <td>République-Unie de Tanzanie</td>\n",
       "      <td>8.48</td>\n",
       "    </tr>\n",
       "    <tr>\n",
       "      <th>9</th>\n",
       "      <td>Afghanistan</td>\n",
       "      <td>8.40</td>\n",
       "    </tr>\n",
       "    <tr>\n",
       "      <th>1</th>\n",
       "      <td>République populaire démocratique de Corée</td>\n",
       "      <td>7.17</td>\n",
       "    </tr>\n",
       "    <tr>\n",
       "      <th>14</th>\n",
       "      <td>Iraq</td>\n",
       "      <td>7.04</td>\n",
       "    </tr>\n",
       "    <tr>\n",
       "      <th>2</th>\n",
       "      <td>Madagascar</td>\n",
       "      <td>6.35</td>\n",
       "    </tr>\n",
       "    <tr>\n",
       "      <th>3</th>\n",
       "      <td>Libéria</td>\n",
       "      <td>5.54</td>\n",
       "    </tr>\n",
       "    <tr>\n",
       "      <th>4</th>\n",
       "      <td>Lesotho</td>\n",
       "      <td>5.28</td>\n",
       "    </tr>\n",
       "    <tr>\n",
       "      <th>7</th>\n",
       "      <td>Mozambique</td>\n",
       "      <td>5.28</td>\n",
       "    </tr>\n",
       "    <tr>\n",
       "      <th>19</th>\n",
       "      <td>Éthiopie</td>\n",
       "      <td>5.13</td>\n",
       "    </tr>\n",
       "    <tr>\n",
       "      <th>15</th>\n",
       "      <td>Kenya</td>\n",
       "      <td>4.64</td>\n",
       "    </tr>\n",
       "    <tr>\n",
       "      <th>6</th>\n",
       "      <td>Rwanda</td>\n",
       "      <td>4.33</td>\n",
       "    </tr>\n",
       "    <tr>\n",
       "      <th>16</th>\n",
       "      <td>Botswana</td>\n",
       "      <td>4.07</td>\n",
       "    </tr>\n",
       "    <tr>\n",
       "      <th>11</th>\n",
       "      <td>Venezuela (République bolivarienne du)</td>\n",
       "      <td>3.69</td>\n",
       "    </tr>\n",
       "    <tr>\n",
       "      <th>8</th>\n",
       "      <td>Timor-Leste</td>\n",
       "      <td>3.13</td>\n",
       "    </tr>\n",
       "  </tbody>\n",
       "</table>\n",
       "</div>"
      ],
      "text/plain": [
       "                                          Zone  Taux pertes\n",
       "12                                Sierra Leone        33.35\n",
       "17                                        Togo        11.62\n",
       "0                                        Haïti        11.00\n",
       "10                                       Congo         9.66\n",
       "5                                        Tchad         8.65\n",
       "18                               Côte d'Ivoire         8.51\n",
       "13                 République-Unie de Tanzanie         8.48\n",
       "9                                  Afghanistan         8.40\n",
       "1   République populaire démocratique de Corée         7.17\n",
       "14                                        Iraq         7.04\n",
       "2                                   Madagascar         6.35\n",
       "3                                      Libéria         5.54\n",
       "4                                      Lesotho         5.28\n",
       "7                                   Mozambique         5.28\n",
       "19                                    Éthiopie         5.13\n",
       "15                                       Kenya         4.64\n",
       "6                                       Rwanda         4.33\n",
       "16                                    Botswana         4.07\n",
       "11      Venezuela (République bolivarienne du)         3.69\n",
       "8                                  Timor-Leste         3.13"
      ]
     },
     "execution_count": 53,
     "metadata": {},
     "output_type": "execute_result"
    }
   ],
   "source": [
    "analyse_pertes_pays_ss_alim = analyse_pertes_pays_ss_alim.sort_values('Taux pertes', ascending=False)\n",
    "analyse_pertes_pays_ss_alim[['Zone', 'Taux pertes']]"
   ]
  },
  {
   "cell_type": "markdown",
   "id": "3c466be8-ff56-4e8a-a073-ae5a03ee7ace",
   "metadata": {},
   "source": [
    ">>>#### analyse exportations / production:"
   ]
  },
  {
   "cell_type": "code",
   "execution_count": 54,
   "id": "e85718b0-86d2-4b93-ad96-82b1e8bd3433",
   "metadata": {},
   "outputs": [],
   "source": [
    "analyse_export = pd.DataFrame(dis.groupby('Zone') ['Exportations - Quantité'].sum())\n",
    "analyse_export['Production']= dis.groupby('Zone') ['Production'].sum()"
   ]
  },
  {
   "cell_type": "code",
   "execution_count": 55,
   "id": "5051e3dc-e4d1-42dd-bfd2-0770b2b0358b",
   "metadata": {},
   "outputs": [],
   "source": [
    "analyse_export['Taux d\\'exportations']= round(analyse_export['Exportations - Quantité']/analyse_export['Production']*100, 2)"
   ]
  },
  {
   "cell_type": "code",
   "execution_count": 56,
   "id": "01676008-d9c5-44ca-99cd-2db59d542f0c",
   "metadata": {},
   "outputs": [],
   "source": [
    "analyse_export_pays_ss_alim = pd.merge(analyse_export, plus_ss_alim, on='Zone', how='right')"
   ]
  },
  {
   "cell_type": "code",
   "execution_count": 57,
   "id": "2a72fdcd-aa4d-4264-b98e-bd3d39921df0",
   "metadata": {},
   "outputs": [
    {
     "data": {
      "text/html": [
       "<div>\n",
       "<style scoped>\n",
       "    .dataframe tbody tr th:only-of-type {\n",
       "        vertical-align: middle;\n",
       "    }\n",
       "\n",
       "    .dataframe tbody tr th {\n",
       "        vertical-align: top;\n",
       "    }\n",
       "\n",
       "    .dataframe thead th {\n",
       "        text-align: right;\n",
       "    }\n",
       "</style>\n",
       "<table border=\"1\" class=\"dataframe\">\n",
       "  <thead>\n",
       "    <tr style=\"text-align: right;\">\n",
       "      <th></th>\n",
       "      <th>Zone</th>\n",
       "      <th>Taux d'exportations</th>\n",
       "    </tr>\n",
       "  </thead>\n",
       "  <tbody>\n",
       "    <tr>\n",
       "      <th>16</th>\n",
       "      <td>Botswana</td>\n",
       "      <td>13.55</td>\n",
       "    </tr>\n",
       "    <tr>\n",
       "      <th>18</th>\n",
       "      <td>Côte d'Ivoire</td>\n",
       "      <td>12.79</td>\n",
       "    </tr>\n",
       "    <tr>\n",
       "      <th>4</th>\n",
       "      <td>Lesotho</td>\n",
       "      <td>7.66</td>\n",
       "    </tr>\n",
       "    <tr>\n",
       "      <th>17</th>\n",
       "      <td>Togo</td>\n",
       "      <td>6.76</td>\n",
       "    </tr>\n",
       "    <tr>\n",
       "      <th>8</th>\n",
       "      <td>Timor-Leste</td>\n",
       "      <td>6.20</td>\n",
       "    </tr>\n",
       "    <tr>\n",
       "      <th>15</th>\n",
       "      <td>Kenya</td>\n",
       "      <td>4.54</td>\n",
       "    </tr>\n",
       "    <tr>\n",
       "      <th>13</th>\n",
       "      <td>République-Unie de Tanzanie</td>\n",
       "      <td>3.26</td>\n",
       "    </tr>\n",
       "    <tr>\n",
       "      <th>6</th>\n",
       "      <td>Rwanda</td>\n",
       "      <td>2.56</td>\n",
       "    </tr>\n",
       "    <tr>\n",
       "      <th>9</th>\n",
       "      <td>Afghanistan</td>\n",
       "      <td>2.49</td>\n",
       "    </tr>\n",
       "    <tr>\n",
       "      <th>3</th>\n",
       "      <td>Libéria</td>\n",
       "      <td>2.22</td>\n",
       "    </tr>\n",
       "    <tr>\n",
       "      <th>19</th>\n",
       "      <td>Éthiopie</td>\n",
       "      <td>2.04</td>\n",
       "    </tr>\n",
       "    <tr>\n",
       "      <th>7</th>\n",
       "      <td>Mozambique</td>\n",
       "      <td>2.02</td>\n",
       "    </tr>\n",
       "    <tr>\n",
       "      <th>2</th>\n",
       "      <td>Madagascar</td>\n",
       "      <td>1.67</td>\n",
       "    </tr>\n",
       "    <tr>\n",
       "      <th>14</th>\n",
       "      <td>Iraq</td>\n",
       "      <td>1.14</td>\n",
       "    </tr>\n",
       "    <tr>\n",
       "      <th>1</th>\n",
       "      <td>République populaire démocratique de Corée</td>\n",
       "      <td>0.60</td>\n",
       "    </tr>\n",
       "    <tr>\n",
       "      <th>12</th>\n",
       "      <td>Sierra Leone</td>\n",
       "      <td>0.32</td>\n",
       "    </tr>\n",
       "    <tr>\n",
       "      <th>0</th>\n",
       "      <td>Haïti</td>\n",
       "      <td>0.30</td>\n",
       "    </tr>\n",
       "    <tr>\n",
       "      <th>11</th>\n",
       "      <td>Venezuela (République bolivarienne du)</td>\n",
       "      <td>0.26</td>\n",
       "    </tr>\n",
       "    <tr>\n",
       "      <th>10</th>\n",
       "      <td>Congo</td>\n",
       "      <td>0.20</td>\n",
       "    </tr>\n",
       "    <tr>\n",
       "      <th>5</th>\n",
       "      <td>Tchad</td>\n",
       "      <td>0.00</td>\n",
       "    </tr>\n",
       "  </tbody>\n",
       "</table>\n",
       "</div>"
      ],
      "text/plain": [
       "                                          Zone  Taux d'exportations\n",
       "16                                    Botswana                13.55\n",
       "18                               Côte d'Ivoire                12.79\n",
       "4                                      Lesotho                 7.66\n",
       "17                                        Togo                 6.76\n",
       "8                                  Timor-Leste                 6.20\n",
       "15                                       Kenya                 4.54\n",
       "13                 République-Unie de Tanzanie                 3.26\n",
       "6                                       Rwanda                 2.56\n",
       "9                                  Afghanistan                 2.49\n",
       "3                                      Libéria                 2.22\n",
       "19                                    Éthiopie                 2.04\n",
       "7                                   Mozambique                 2.02\n",
       "2                                   Madagascar                 1.67\n",
       "14                                        Iraq                 1.14\n",
       "1   République populaire démocratique de Corée                 0.60\n",
       "12                                Sierra Leone                 0.32\n",
       "0                                        Haïti                 0.30\n",
       "11      Venezuela (République bolivarienne du)                 0.26\n",
       "10                                       Congo                 0.20\n",
       "5                                        Tchad                 0.00"
      ]
     },
     "execution_count": 57,
     "metadata": {},
     "output_type": "execute_result"
    }
   ],
   "source": [
    "analyse_export_pays_ss_alim = analyse_export_pays_ss_alim.sort_values('Taux d\\'exportations', ascending=False)\n",
    "analyse_export_pays_ss_alim[['Zone', 'Taux d\\'exportations']]"
   ]
  },
  {
   "cell_type": "markdown",
   "id": "dd32c3d0-5b92-4b42-989e-83572d59815d",
   "metadata": {},
   "source": [
    ">>>#### analyse alimentation humaine / production:"
   ]
  },
  {
   "cell_type": "code",
   "execution_count": 58,
   "id": "9e40ac16-5768-463f-9371-8835941f58c8",
   "metadata": {},
   "outputs": [],
   "source": [
    "analyse_nourr = pd.DataFrame(dis.groupby('Zone') ['Production'].sum())\n",
    "analyse_nourr['Nourriture']= dis.groupby('Zone') ['Nourriture'].sum()"
   ]
  },
  {
   "cell_type": "code",
   "execution_count": 59,
   "id": "43e024a3-8bf5-4a36-9ab5-cf9ecdc2aa89",
   "metadata": {},
   "outputs": [],
   "source": [
    "analyse_nourr['Rapport alimentation humaine/production (%)']= round(analyse_nourr['Nourriture']/analyse_nourr['Production']*100, 2)"
   ]
  },
  {
   "cell_type": "code",
   "execution_count": 60,
   "id": "a9002b34-bea1-4984-a89d-869cc621815a",
   "metadata": {},
   "outputs": [],
   "source": [
    "analyse_nourr_pays_ss_alim = pd.merge(analyse_nourr, plus_ss_alim, on='Zone', how='right')"
   ]
  },
  {
   "cell_type": "code",
   "execution_count": 61,
   "id": "439e662d-5905-46fa-8cca-025a58846ae5",
   "metadata": {},
   "outputs": [
    {
     "data": {
      "text/html": [
       "<div>\n",
       "<style scoped>\n",
       "    .dataframe tbody tr th:only-of-type {\n",
       "        vertical-align: middle;\n",
       "    }\n",
       "\n",
       "    .dataframe tbody tr th {\n",
       "        vertical-align: top;\n",
       "    }\n",
       "\n",
       "    .dataframe thead th {\n",
       "        text-align: right;\n",
       "    }\n",
       "</style>\n",
       "<table border=\"1\" class=\"dataframe\">\n",
       "  <thead>\n",
       "    <tr style=\"text-align: right;\">\n",
       "      <th></th>\n",
       "      <th>Zone</th>\n",
       "      <th>Rapport alimentation humaine/production (%)</th>\n",
       "    </tr>\n",
       "  </thead>\n",
       "  <tbody>\n",
       "    <tr>\n",
       "      <th>12</th>\n",
       "      <td>Sierra Leone</td>\n",
       "      <td>46.88</td>\n",
       "    </tr>\n",
       "    <tr>\n",
       "      <th>7</th>\n",
       "      <td>Mozambique</td>\n",
       "      <td>60.45</td>\n",
       "    </tr>\n",
       "    <tr>\n",
       "      <th>18</th>\n",
       "      <td>Côte d'Ivoire</td>\n",
       "      <td>66.25</td>\n",
       "    </tr>\n",
       "    <tr>\n",
       "      <th>13</th>\n",
       "      <td>République-Unie de Tanzanie</td>\n",
       "      <td>67.28</td>\n",
       "    </tr>\n",
       "    <tr>\n",
       "      <th>2</th>\n",
       "      <td>Madagascar</td>\n",
       "      <td>68.79</td>\n",
       "    </tr>\n",
       "    <tr>\n",
       "      <th>6</th>\n",
       "      <td>Rwanda</td>\n",
       "      <td>71.60</td>\n",
       "    </tr>\n",
       "    <tr>\n",
       "      <th>19</th>\n",
       "      <td>Éthiopie</td>\n",
       "      <td>72.36</td>\n",
       "    </tr>\n",
       "    <tr>\n",
       "      <th>5</th>\n",
       "      <td>Tchad</td>\n",
       "      <td>79.51</td>\n",
       "    </tr>\n",
       "    <tr>\n",
       "      <th>0</th>\n",
       "      <td>Haïti</td>\n",
       "      <td>80.86</td>\n",
       "    </tr>\n",
       "    <tr>\n",
       "      <th>15</th>\n",
       "      <td>Kenya</td>\n",
       "      <td>81.86</td>\n",
       "    </tr>\n",
       "    <tr>\n",
       "      <th>1</th>\n",
       "      <td>République populaire démocratique de Corée</td>\n",
       "      <td>82.29</td>\n",
       "    </tr>\n",
       "    <tr>\n",
       "      <th>11</th>\n",
       "      <td>Venezuela (République bolivarienne du)</td>\n",
       "      <td>83.18</td>\n",
       "    </tr>\n",
       "    <tr>\n",
       "      <th>10</th>\n",
       "      <td>Congo</td>\n",
       "      <td>87.03</td>\n",
       "    </tr>\n",
       "    <tr>\n",
       "      <th>17</th>\n",
       "      <td>Togo</td>\n",
       "      <td>92.00</td>\n",
       "    </tr>\n",
       "    <tr>\n",
       "      <th>9</th>\n",
       "      <td>Afghanistan</td>\n",
       "      <td>96.10</td>\n",
       "    </tr>\n",
       "    <tr>\n",
       "      <th>3</th>\n",
       "      <td>Libéria</td>\n",
       "      <td>107.83</td>\n",
       "    </tr>\n",
       "    <tr>\n",
       "      <th>8</th>\n",
       "      <td>Timor-Leste</td>\n",
       "      <td>112.94</td>\n",
       "    </tr>\n",
       "    <tr>\n",
       "      <th>14</th>\n",
       "      <td>Iraq</td>\n",
       "      <td>119.82</td>\n",
       "    </tr>\n",
       "    <tr>\n",
       "      <th>4</th>\n",
       "      <td>Lesotho</td>\n",
       "      <td>215.07</td>\n",
       "    </tr>\n",
       "    <tr>\n",
       "      <th>16</th>\n",
       "      <td>Botswana</td>\n",
       "      <td>221.71</td>\n",
       "    </tr>\n",
       "  </tbody>\n",
       "</table>\n",
       "</div>"
      ],
      "text/plain": [
       "                                          Zone  \\\n",
       "12                                Sierra Leone   \n",
       "7                                   Mozambique   \n",
       "18                               Côte d'Ivoire   \n",
       "13                 République-Unie de Tanzanie   \n",
       "2                                   Madagascar   \n",
       "6                                       Rwanda   \n",
       "19                                    Éthiopie   \n",
       "5                                        Tchad   \n",
       "0                                        Haïti   \n",
       "15                                       Kenya   \n",
       "1   République populaire démocratique de Corée   \n",
       "11      Venezuela (République bolivarienne du)   \n",
       "10                                       Congo   \n",
       "17                                        Togo   \n",
       "9                                  Afghanistan   \n",
       "3                                      Libéria   \n",
       "8                                  Timor-Leste   \n",
       "14                                        Iraq   \n",
       "4                                      Lesotho   \n",
       "16                                    Botswana   \n",
       "\n",
       "    Rapport alimentation humaine/production (%)  \n",
       "12                                        46.88  \n",
       "7                                         60.45  \n",
       "18                                        66.25  \n",
       "13                                        67.28  \n",
       "2                                         68.79  \n",
       "6                                         71.60  \n",
       "19                                        72.36  \n",
       "5                                         79.51  \n",
       "0                                         80.86  \n",
       "15                                        81.86  \n",
       "1                                         82.29  \n",
       "11                                        83.18  \n",
       "10                                        87.03  \n",
       "17                                        92.00  \n",
       "9                                         96.10  \n",
       "3                                        107.83  \n",
       "8                                        112.94  \n",
       "14                                       119.82  \n",
       "4                                        215.07  \n",
       "16                                       221.71  "
      ]
     },
     "execution_count": 61,
     "metadata": {},
     "output_type": "execute_result"
    }
   ],
   "source": [
    "analyse_nourr_pays_ss_alim = analyse_nourr_pays_ss_alim.sort_values('Rapport alimentation humaine/production (%)')\n",
    "analyse_nourr_pays_ss_alim[['Zone', 'Rapport alimentation humaine/production (%)']]"
   ]
  },
  {
   "cell_type": "markdown",
   "id": "a4c94363-9e45-481a-8744-c8701e12d10d",
   "metadata": {},
   "source": [
    ">>>#### analyse aide reçue / population:"
   ]
  },
  {
   "cell_type": "code",
   "execution_count": 62,
   "id": "61e969e5-b958-4f3e-9197-d46084ea7ab9",
   "metadata": {
    "tags": []
   },
   "outputs": [],
   "source": [
    "analyse_aide_pop = pd.merge (cumul_aides_depuis_2013, plus_ss_alim, left_on='Pays bénéficiaire', right_on='Zone')"
   ]
  },
  {
   "cell_type": "code",
   "execution_count": 63,
   "id": "80228afd-0634-439c-9639-26cb645f408a",
   "metadata": {},
   "outputs": [],
   "source": [
    "analyse_aide_pop['Aide reçue (kg/an/habitant)']= (analyse_aide_pop['Aide cumulée 2013-2016 (milliers de tonnes)']*10**9) / (analyse_aide_pop['Valeur_pop']*10**9) / 4"
   ]
  },
  {
   "cell_type": "code",
   "execution_count": 64,
   "id": "1326b47b-4ced-4dd3-9a52-76dff1e69273",
   "metadata": {},
   "outputs": [
    {
     "data": {
      "text/html": [
       "<div>\n",
       "<style scoped>\n",
       "    .dataframe tbody tr th:only-of-type {\n",
       "        vertical-align: middle;\n",
       "    }\n",
       "\n",
       "    .dataframe tbody tr th {\n",
       "        vertical-align: top;\n",
       "    }\n",
       "\n",
       "    .dataframe thead th {\n",
       "        text-align: right;\n",
       "    }\n",
       "</style>\n",
       "<table border=\"1\" class=\"dataframe\">\n",
       "  <thead>\n",
       "    <tr style=\"text-align: right;\">\n",
       "      <th></th>\n",
       "      <th>Zone</th>\n",
       "      <th>Aide reçue (kg/an/habitant)</th>\n",
       "    </tr>\n",
       "  </thead>\n",
       "  <tbody>\n",
       "    <tr>\n",
       "      <th>15</th>\n",
       "      <td>Timor-Leste</td>\n",
       "      <td>0.023326</td>\n",
       "    </tr>\n",
       "    <tr>\n",
       "      <th>4</th>\n",
       "      <td>Iraq</td>\n",
       "      <td>0.023953</td>\n",
       "    </tr>\n",
       "    <tr>\n",
       "      <th>10</th>\n",
       "      <td>Rwanda</td>\n",
       "      <td>0.238044</td>\n",
       "    </tr>\n",
       "    <tr>\n",
       "      <th>9</th>\n",
       "      <td>Mozambique</td>\n",
       "      <td>0.511466</td>\n",
       "    </tr>\n",
       "    <tr>\n",
       "      <th>2</th>\n",
       "      <td>Côte d'Ivoire</td>\n",
       "      <td>0.551796</td>\n",
       "    </tr>\n",
       "    <tr>\n",
       "      <th>12</th>\n",
       "      <td>République-Unie de Tanzanie</td>\n",
       "      <td>0.786777</td>\n",
       "    </tr>\n",
       "    <tr>\n",
       "      <th>16</th>\n",
       "      <td>Togo</td>\n",
       "      <td>0.805484</td>\n",
       "    </tr>\n",
       "    <tr>\n",
       "      <th>13</th>\n",
       "      <td>Sierra Leone</td>\n",
       "      <td>0.866070</td>\n",
       "    </tr>\n",
       "    <tr>\n",
       "      <th>8</th>\n",
       "      <td>Madagascar</td>\n",
       "      <td>0.945210</td>\n",
       "    </tr>\n",
       "    <tr>\n",
       "      <th>7</th>\n",
       "      <td>Libéria</td>\n",
       "      <td>1.055139</td>\n",
       "    </tr>\n",
       "    <tr>\n",
       "      <th>1</th>\n",
       "      <td>Congo</td>\n",
       "      <td>1.122646</td>\n",
       "    </tr>\n",
       "    <tr>\n",
       "      <th>6</th>\n",
       "      <td>Lesotho</td>\n",
       "      <td>1.269881</td>\n",
       "    </tr>\n",
       "    <tr>\n",
       "      <th>0</th>\n",
       "      <td>Afghanistan</td>\n",
       "      <td>1.277354</td>\n",
       "    </tr>\n",
       "    <tr>\n",
       "      <th>11</th>\n",
       "      <td>République populaire démocratique de Corée</td>\n",
       "      <td>1.842443</td>\n",
       "    </tr>\n",
       "    <tr>\n",
       "      <th>3</th>\n",
       "      <td>Haïti</td>\n",
       "      <td>2.650840</td>\n",
       "    </tr>\n",
       "    <tr>\n",
       "      <th>5</th>\n",
       "      <td>Kenya</td>\n",
       "      <td>2.752008</td>\n",
       "    </tr>\n",
       "    <tr>\n",
       "      <th>17</th>\n",
       "      <td>Éthiopie</td>\n",
       "      <td>3.245524</td>\n",
       "    </tr>\n",
       "    <tr>\n",
       "      <th>14</th>\n",
       "      <td>Tchad</td>\n",
       "      <td>4.461118</td>\n",
       "    </tr>\n",
       "  </tbody>\n",
       "</table>\n",
       "</div>"
      ],
      "text/plain": [
       "                                          Zone  Aide reçue (kg/an/habitant)\n",
       "15                                 Timor-Leste                     0.023326\n",
       "4                                         Iraq                     0.023953\n",
       "10                                      Rwanda                     0.238044\n",
       "9                                   Mozambique                     0.511466\n",
       "2                                Côte d'Ivoire                     0.551796\n",
       "12                 République-Unie de Tanzanie                     0.786777\n",
       "16                                        Togo                     0.805484\n",
       "13                                Sierra Leone                     0.866070\n",
       "8                                   Madagascar                     0.945210\n",
       "7                                      Libéria                     1.055139\n",
       "1                                        Congo                     1.122646\n",
       "6                                      Lesotho                     1.269881\n",
       "0                                  Afghanistan                     1.277354\n",
       "11  République populaire démocratique de Corée                     1.842443\n",
       "3                                        Haïti                     2.650840\n",
       "5                                        Kenya                     2.752008\n",
       "17                                    Éthiopie                     3.245524\n",
       "14                                       Tchad                     4.461118"
      ]
     },
     "execution_count": 64,
     "metadata": {},
     "output_type": "execute_result"
    }
   ],
   "source": [
    "analyse_aide_pop = analyse_aide_pop.sort_values('Aide reçue (kg/an/habitant)')\n",
    "analyse_aide_pop[['Zone', 'Aide reçue (kg/an/habitant)']]"
   ]
  }
 ],
 "metadata": {
  "kernelspec": {
   "display_name": "Python 3 (ipykernel)",
   "language": "python",
   "name": "python3"
  },
  "language_info": {
   "codemirror_mode": {
    "name": "ipython",
    "version": 3
   },
   "file_extension": ".py",
   "mimetype": "text/x-python",
   "name": "python",
   "nbconvert_exporter": "python",
   "pygments_lexer": "ipython3",
   "version": "3.9.7"
  }
 },
 "nbformat": 4,
 "nbformat_minor": 5
}
